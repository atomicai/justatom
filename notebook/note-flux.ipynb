{
 "cells": [
  {
   "cell_type": "code",
   "execution_count": 1,
   "metadata": {},
   "outputs": [
    {
     "data": {
      "text/plain": [
       "True"
      ]
     },
     "execution_count": 1,
     "metadata": {},
     "output_type": "execute_result"
    }
   ],
   "source": [
    "import os\n",
    "import dotenv\n",
    "from pathlib import Path\n",
    "from tqdm import tqdm\n",
    "dotenv.load_dotenv()"
   ]
  },
  {
   "cell_type": "code",
   "execution_count": 2,
   "metadata": {},
   "outputs": [],
   "source": [
    "prompts = [\n",
    "    (\"VENOM vs RED VENOM like but mich bigger. They fight, 4k, ultra realistic, Marvel\", \"venom\"),\n",
    "    (\"Counter Strike 2 Go. Terrorists with AK-47 shooting bank. 4k, ultra-realistic. One terrorist holding bomb\", \"csgo\"),\n",
    "    (\"Need For Speed. Most Wanted (2005), Red Mazda RX-7 and White with blue stripes BMW m3 E46 race. 4k, cinematic\", \"nfs\"),\n",
    "    (\"Hyper realistic rider handsome 30 years old man skin glowingriding harley davidson wear black tshirt logo perisai yellow heart text saying \\\"Welcome to POLAROIDS.ai club\\\"\", \"logo.polaroidsai\")\n",
    "]"
   ]
  },
  {
   "cell_type": "code",
   "execution_count": 3,
   "metadata": {},
   "outputs": [],
   "source": [
    "from justatom.api.flux import ImageRequest"
   ]
  },
  {
   "cell_type": "code",
   "execution_count": 7,
   "metadata": {},
   "outputs": [],
   "source": [
    "API_ENDPOINTS = {\n",
    "    \"flux.1-pro\": \"flux-pro\",\n",
    "    \"flux.1-dev\": \"flux-dev\",\n",
    "    \"flux.1.1-pro\": \"flux-pro-1.1\",\n",
    "    \"flux.1.1-pro-ultra\": \"flux-pro-1.1-ultra\",\n",
    "}\n",
    "\n",
    "width, height= 1024, 768\n",
    "seed = 2281997\n",
    "guidance = 2\n",
    "safety_tolerance = 2"
   ]
  },
  {
   "cell_type": "code",
   "execution_count": 8,
   "metadata": {},
   "outputs": [
    {
     "name": "stderr",
     "output_type": "stream",
     "text": [
      "100%|██████████| 4/4 [00:36<00:00,  9.09s/it]\n"
     ]
    }
   ],
   "source": [
    "for prompt, alias in tqdm(prompts):\n",
    "    request = ImageRequest(\n",
    "        prompt=prompt,\n",
    "        name=\"flux.1.1-pro-ultra\",\n",
    "        api_key=os.environ.get(\"BLACKFOREST_API_KEY\"),\n",
    "        width=width,\n",
    "        height=height,\n",
    "        guidance=guidance,\n",
    "        safety_tolerance=safety_tolerance,\n",
    "        seed=seed\n",
    "    )\n",
    "    request.save(f\"flux/{alias}.[{width}x{height}].jpg\")"
   ]
  },
  {
   "cell_type": "code",
   "execution_count": 7,
   "metadata": {},
   "outputs": [],
   "source": [
    "request.save(f\"flux/tshirt_lora[{width}x{height}].jpg\")"
   ]
  }
 ],
 "metadata": {
  "kernelspec": {
   "display_name": "justatom",
   "language": "python",
   "name": "python3"
  },
  "language_info": {
   "codemirror_mode": {
    "name": "ipython",
    "version": 3
   },
   "file_extension": ".py",
   "mimetype": "text/x-python",
   "name": "python",
   "nbconvert_exporter": "python",
   "pygments_lexer": "ipython3",
   "version": "3.11.9"
  }
 },
 "nbformat": 4,
 "nbformat_minor": 2
}
