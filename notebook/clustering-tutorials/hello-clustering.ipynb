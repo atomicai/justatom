{
 "cells": [
  {
   "cell_type": "code",
   "execution_count": null,
   "metadata": {},
   "outputs": [],
   "source": [
    "import os\n",
    "from pathlib import Path\n",
    "from typing import List, Dict\n",
    "\n",
    "import pandas as pd\n",
    "import simplejson as json\n",
    "import numpy as np\n",
    "from itertools import chain\n",
    "from loguru import logger\n",
    "\n",
    "import polars as pl\n",
    "import torch\n",
    "\n",
    "from justatom.modeling.mask import ILanguageModel\n",
    "\n",
    "from justatom.configuring.prime import Config\n",
    "from justatom.running.cluster import IBTRunner, IHFWrapperBackend\n",
    "from justatom.modeling.prime import DocEmbedder\n",
    "from justatom.clustering.prime import IUMAPDimReducer\n",
    "from justatom.viewing.prime import PlotlyScatterChart\n",
    "\n",
    "import altair as alt"
   ]
  },
  {
   "cell_type": "code",
   "execution_count": null,
   "metadata": {},
   "outputs": [],
   "source": [
    "def ignite_dataset(where, mask:str = None) -> List[Dict]:\n",
    "    docs = None\n",
    "    with open(str(Path(where)), encoding=\"utf-8\") as fin:\n",
    "        docs = json.load(fin)\n",
    "    if mask:\n",
    "        return docs[mask]\n",
    "    return docs"
   ]
  },
  {
   "cell_type": "code",
   "execution_count": null,
   "metadata": {},
   "outputs": [],
   "source": [
    "docs = ignite_dataset(where=Path(os.getcwd()) / \".data\" / \"polaroids.ai.data.json\")"
   ]
  },
  {
   "cell_type": "code",
   "execution_count": null,
   "metadata": {},
   "outputs": [],
   "source": [
    "documents = [di['content'] for di in docs]\n",
    "labels = [di[\"title\"] for di in docs]"
   ]
  },
  {
   "cell_type": "code",
   "execution_count": null,
   "metadata": {},
   "outputs": [],
   "source": [
    "def maybe_cuda_or_mps():\n",
    "    if torch.cuda.is_available():\n",
    "        return \"cuda:0\"\n",
    "    elif torch.has_mps:\n",
    "        return \"mps\"\n",
    "    else:\n",
    "        return \"cpu\""
   ]
  },
  {
   "cell_type": "code",
   "execution_count": null,
   "metadata": {},
   "outputs": [],
   "source": [
    "device = maybe_cuda_or_mps()\n",
    "logger.info(f\"Using device {device}\")"
   ]
  },
  {
   "cell_type": "code",
   "execution_count": null,
   "metadata": {},
   "outputs": [],
   "source": [
    "# model_name_or_path = Path(os.getcwd()) / \"weights\" / \"polaroids.ai-bs=128-margin=0.4\"\n",
    "model_name_or_path = \"intfloat/multilingual-e5-base\""
   ]
  },
  {
   "cell_type": "code",
   "execution_count": null,
   "metadata": {},
   "outputs": [],
   "source": [
    "from justatom.processing.mask import IProcessor\n",
    "from justatom.processing.prime import INFERProcessor, TripletProcessor\n",
    "from justatom.processing import ITokenizer"
   ]
  },
  {
   "cell_type": "code",
   "execution_count": null,
   "metadata": {},
   "outputs": [],
   "source": [
    "tokenizer = ITokenizer.from_pretrained(\"intfloat/multilingual-e5-base\")\n",
    "processor = INFERProcessor(tokenizer=tokenizer, max_seq_len=512)"
   ]
  },
  {
   "cell_type": "code",
   "execution_count": null,
   "metadata": {},
   "outputs": [],
   "source": [
    "lm_model = ILanguageModel.load(model_name_or_path)"
   ]
  },
  {
   "cell_type": "code",
   "execution_count": null,
   "metadata": {},
   "outputs": [],
   "source": [
    "embedder = DocEmbedder(model=lm_model, processor=processor, device=device)\n",
    "backend_wrapper = IHFWrapperBackend(embedder, **Config.clustering.transformers_backend.toDict())"
   ]
  },
  {
   "cell_type": "code",
   "execution_count": null,
   "metadata": {},
   "outputs": [],
   "source": [
    "bt_runner = IBTRunner(**Config.clustering.bertopic, model=backend_wrapper, verbose=True)"
   ]
  },
  {
   "cell_type": "code",
   "execution_count": null,
   "metadata": {},
   "outputs": [],
   "source": [
    "embeddings = list(chain.from_iterable(embedder.encode(documents, verbose=True, batch_size=4)))\n",
    "topics, probs = bt_runner.fit_transform(docs=documents)"
   ]
  },
  {
   "cell_type": "code",
   "execution_count": null,
   "metadata": {},
   "outputs": [],
   "source": [
    "reducer = IUMAPDimReducer(**Config.clustering.umap.toDict())\n",
    "points = reducer.fit_transform(embeddings)"
   ]
  },
  {
   "cell_type": "code",
   "execution_count": null,
   "metadata": {},
   "outputs": [],
   "source": [
    "def prepare2d(docs, topics, labels, reduced_embeddings):\n",
    "    assert reduced_embeddings.shape[1] == 2, f\"Embeddings shape mismatch Exptected 2D, got {embeddings.shape[1]}D\"\n",
    "    COLS_MAPPING=dict(\n",
    "        column_0=\"text\",\n",
    "        column_1=\"topic\",\n",
    "        column_2=\"label\",\n",
    "        column_3=\"x\",\n",
    "        column_4=\"y\"\n",
    "    )\n",
    "    pl_view = pl.from_dicts(zip(docs, topics, labels, reduced_embeddings[:, 0], reduced_embeddings[:, 1]))\n",
    "    pl_view = pl_view.rename(COLS_MAPPING)\n",
    "    return pl_view"
   ]
  },
  {
   "cell_type": "code",
   "execution_count": null,
   "metadata": {},
   "outputs": [],
   "source": [
    "pl_view = prepare2d(docs=documents, topics=topics, labels=labels, reduced_embeddings=points)"
   ]
  },
  {
   "cell_type": "code",
   "execution_count": null,
   "metadata": {},
   "outputs": [],
   "source": [
    "from justatom.viewing.prime import PlotlyScatterChart"
   ]
  },
  {
   "cell_type": "code",
   "execution_count": null,
   "metadata": {},
   "outputs": [],
   "source": [
    "chart = PlotlyScatterChart().view(pl_view, label_to_view=\"Вселенная\")"
   ]
  },
  {
   "cell_type": "code",
   "execution_count": null,
   "metadata": {},
   "outputs": [],
   "source": [
    "chart.write_image(f\"default.png\", engine='kaleido', scale=2)"
   ]
  },
  {
   "cell_type": "code",
   "execution_count": null,
   "metadata": {},
   "outputs": [],
   "source": []
  }
 ],
 "metadata": {
  "kernelspec": {
   "display_name": "polaroids",
   "language": "python",
   "name": "python3"
  },
  "language_info": {
   "codemirror_mode": {
    "name": "ipython",
    "version": 3
   },
   "file_extension": ".py",
   "mimetype": "text/x-python",
   "name": "python",
   "nbconvert_exporter": "python",
   "pygments_lexer": "ipython3",
   "version": "3.11.9"
  }
 },
 "nbformat": 4,
 "nbformat_minor": 2
}
