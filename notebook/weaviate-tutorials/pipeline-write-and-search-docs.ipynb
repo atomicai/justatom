{
 "cells": [
  {
   "cell_type": "code",
   "execution_count": 67,
   "metadata": {},
   "outputs": [],
   "source": [
    "import requests\n",
    "from loguru import logger\n",
    "from pathlib import Path\n",
    "import os\n",
    "import uuid\n",
    "from typing import Generator\n",
    "import numpy as np\n",
    "import simplejson as json\n",
    "import torch\n",
    "from justatom.tooling.dataset import source_from_dataset\n",
    "from justatom.etc.schema import Document\n",
    "from more_itertools import chunked\n",
    "import json_repair\n",
    "import polars as pl\n",
    "\n",
    "from justatom.storing.weaviate import Finder as WeaviateApi\n",
    "\n",
    "from tqdm import tqdm"
   ]
  },
  {
   "cell_type": "markdown",
   "metadata": {},
   "source": [
    "### ✔️ANN document store backed by <a href=\"https://github.com/weaviate/weaviate\">weaviate</a>\n",
    "\n",
    "> First, let'c make sure you have docker up and running. From the root of directory run:\n",
    "```bash\n",
    "docker-compose up -d\n",
    "```\n",
    "\n",
    "❗️ By default weavaite will run on port `2211`"
   ]
  },
  {
   "cell_type": "code",
   "execution_count": 68,
   "metadata": {},
   "outputs": [],
   "source": [
    "collection_name = \"JUSTATOM_COLLECTION\"\n",
    "weaviate_host, weaviate_port, weaviate_grpc_port = \"localhost\", 2211, 50051"
   ]
  },
  {
   "cell_type": "code",
   "execution_count": 69,
   "metadata": {},
   "outputs": [
    {
     "name": "stderr",
     "output_type": "stream",
     "text": [
      "\u001b[32m2025-04-01 20:02:19.254\u001b[0m | \u001b[1mINFO    \u001b[0m | \u001b[36mjustatom.storing.weaviate\u001b[0m:\u001b[36mfind\u001b[0m:\u001b[36m597\u001b[0m - \u001b[1mFINDER | collection_name=[JUSTATOM_COLLECTION]\u001b[0m\n",
      "\u001b[32m2025-04-01 20:02:19.254\u001b[0m | \u001b[1mINFO    \u001b[0m | \u001b[36mjustatom.storing.weaviate\u001b[0m:\u001b[36mconnect\u001b[0m:\u001b[36m185\u001b[0m - \u001b[1mFINDER | collection_schema_name=[JUSTATOM_COLLECTION]\u001b[0m\n"
     ]
    }
   ],
   "source": [
    "store = await WeaviateApi.find(collection_name, WEAVIATE_HOST=weaviate_host, WEAVIATE_PORT=weaviate_port, WEAVIATE_GRPC_PORT=weaviate_grpc_port)"
   ]
  },
  {
   "cell_type": "code",
   "execution_count": 70,
   "metadata": {},
   "outputs": [],
   "source": [
    "n_docs = await store.count_documents()"
   ]
  },
  {
   "cell_type": "code",
   "execution_count": 71,
   "metadata": {},
   "outputs": [
    {
     "name": "stderr",
     "output_type": "stream",
     "text": [
      "\u001b[32m2025-04-01 20:02:22.208\u001b[0m | \u001b[1mINFO    \u001b[0m | \u001b[36m__main__\u001b[0m:\u001b[36m<module>\u001b[0m:\u001b[36m1\u001b[0m - \u001b[1mFor the collection=[JUSTATOM_COLLECTION] you have N=[4992] documents\u001b[0m\n"
     ]
    }
   ],
   "source": [
    "logger.info(f\"For the collection=[{collection_name}] you have N=[{n_docs}] documents\")"
   ]
  },
  {
   "cell_type": "code",
   "execution_count": 72,
   "metadata": {},
   "outputs": [],
   "source": [
    "async with store._client:\n",
    "    all_collections = await store._client.collections.list_all(simple=True)"
   ]
  },
  {
   "cell_type": "code",
   "execution_count": 73,
   "metadata": {},
   "outputs": [
    {
     "name": "stderr",
     "output_type": "stream",
     "text": [
      "\u001b[32m2025-04-01 20:02:29.437\u001b[0m | \u001b[1mINFO    \u001b[0m | \u001b[36m__main__\u001b[0m:\u001b[36m<module>\u001b[0m:\u001b[36m1\u001b[0m - \u001b[1mCOLLECTION | [Sber_collection, X, Just_collection, Justatom_collection]\u001b[0m\n"
     ]
    }
   ],
   "source": [
    "logger.info(f\"COLLECTION | [{', '.join(all_collections)}]\")"
   ]
  },
  {
   "cell_type": "markdown",
   "metadata": {},
   "source": [
    "### ✔️ Prepare datasets\n",
    "\n",
    "> For this tutorial we will use built-in dataset `polaroids.ai`. This is the dataset from movies, games and books containing paragraphs from various moments"
   ]
  },
  {
   "cell_type": "code",
   "execution_count": 74,
   "metadata": {},
   "outputs": [],
   "source": [
    "dataset_name_or_path = Path(os.getcwd()) / \".data\" / \"polaroids.ai.data.json\""
   ]
  },
  {
   "cell_type": "code",
   "execution_count": 75,
   "metadata": {},
   "outputs": [],
   "source": [
    "pl_docs = source_from_dataset(dataset_name_or_path)"
   ]
  },
  {
   "cell_type": "code",
   "execution_count": 76,
   "metadata": {},
   "outputs": [
    {
     "name": "stderr",
     "output_type": "stream",
     "text": [
      "\u001b[32m2025-04-01 20:02:39.638\u001b[0m | \u001b[1mINFO    \u001b[0m | \u001b[36m__main__\u001b[0m:\u001b[36m<module>\u001b[0m:\u001b[36m1\u001b[0m - \u001b[1mColumns=[title | author | type | has_image | img_path | speaker | keywords_or_phrases | chunk_id | content | queries | answers | are_contexts_present | content_right]\u001b[0m\n"
     ]
    }
   ],
   "source": [
    "logger.info(f\"Columns=[{' | '.join(pl_docs.columns)}]\")"
   ]
  },
  {
   "cell_type": "markdown",
   "metadata": {},
   "source": [
    ">❗️Please do note, that `content` and `id` columns are must have. They describe each \"chunk\". All the rest fields are optional and would be added to `meta`"
   ]
  },
  {
   "cell_type": "code",
   "execution_count": 77,
   "metadata": {},
   "outputs": [],
   "source": [
    "# We have `chunk_id` but not `id`. Let's add it as well.\n",
    "\n",
    "pl_docs = pl_docs.with_columns([\n",
    "    pl.col(\"chunk_id\").alias(\"id\")\n",
    "])"
   ]
  },
  {
   "cell_type": "markdown",
   "metadata": {},
   "source": [
    "> ❗️Let's filter out those chunks having `null` on any of \"must-have\" columns otherwise pipeline will fail"
   ]
  },
  {
   "cell_type": "code",
   "execution_count": 78,
   "metadata": {},
   "outputs": [],
   "source": [
    "pl_docs = pl_docs.filter((pl.col(\"content\") != None) & (pl.col(\"id\") != None))"
   ]
  },
  {
   "cell_type": "code",
   "execution_count": 79,
   "metadata": {},
   "outputs": [
    {
     "name": "stderr",
     "output_type": "stream",
     "text": [
      "\u001b[32m2025-04-01 20:02:43.992\u001b[0m | \u001b[1mINFO    \u001b[0m | \u001b[36m__main__\u001b[0m:\u001b[36m<module>\u001b[0m:\u001b[36m1\u001b[0m - \u001b[1mThere are D=[4992] unique documents\u001b[0m\n"
     ]
    }
   ],
   "source": [
    "logger.info(f\"There are D=[{pl_docs.shape[0]}] unique documents\")"
   ]
  },
  {
   "cell_type": "markdown",
   "metadata": {},
   "source": [
    ">❗️We would like to keep `keywords_or_phrases` and relevant `queries` for each chunk. Let's declare that as well as original `chunk_id` to keep the structure outside of weaviate internal generated UUID-s.\n",
    "\n",
    "> ❗️❗️ Each chunk is associated with an array of relevant queries to describe it"
   ]
  },
  {
   "cell_type": "markdown",
   "metadata": {},
   "source": [
    "<small>\n",
    "\n",
    "|  queries (list[str])  |     content: str     |   chunk_id: str   |\n",
    "|:---------------------:|:--------------------:|:-----------------:|\n",
    "| 1. ...thinking about 'The Hunger Games' mechanics, if you were in the same shoes as Gale, entering your name forty-two times to feed your fam, how would you strategize your game in the actual Arena? Would you team up or go solo based on these high stakes? <br><br>2.In the universe of 'The Hunger Games', what are tesserae and what do they offer to the participants in the Harvest?    | And here's where the real interest begins. Suppose you're poor and starving. Then you can ask to be included in the Harvest more times than you're entitled to, and in return you'd get tesserae. They give you grain and oil for a whole year for one tessera per person. You won't be full, but it's better than nothing. You can take tesserae for the whole family. When I was twelve, my name was entered four times. Once by law, and once more for tesserae for Prim, my mother, and myself. The next years had to do the same. And since the price of a tessera increases by one entry each year, now that I've turned sixteen, my name will be on twenty cards. Gale is eighteen, and he's been feeding a family of five for seven years. His name will be entered forty two times! It's clear that people like Madge, who has never had to risk because of tesserae, annoy Gale. Next to us, the inhabitants of the slag heap, she simply has no chance of getting into the games. Well, almost no chance. Of course, the rules are set by the Capitol, not the districts, let alone Madge's relatives, and it's still hard to sympathize with those who, like you, don't have to trade their own skin for a piece of bread.  | 80504cd8-9b21-514c-b001-4761d8c71044         |\n",
    "|-----------------------|----------------------|-------------------|\n",
    "| 1.In 'Harry Potter and the Philosopher's Stone', what misconception had Harry and Hermione initially had about Snape's intentions before learning the truth? <br><br>2. Hey peeps, why is Harry all jittery and pacing around the room even after telling Hermione about the whole Snape and Voldemort situation?        | Ron was asleep in the common room - apparently, he had been waiting for their return and had dozed off unnoticed. When Harry roughly shook him, Ron began to yell something about breaking the rules of a game, as if he were dreaming about a Quidditch match. However, after a few seconds, Ron completely woke up and, with his eyes wide open, listened to the story of Hermione and Harry. Harry was so excited that he could not sit still and paced back and forth across the room, trying to stay as close to the fireplace as possible. He was still shaking with cold. 'Snape wants to steal the stone for Voldemort. And Voldemort is waiting in the forest... And all this time we thought Snape wanted to steal the stone to become rich... And Voldemort...'  | 5ad25a92-28d9-5971-a81b-4f795898eeab         |\n",
    "|-----------------------|----------------------|-------------------|\n",
    "| 1. Hey fellow gamers, in The Hunger Games universe, if you were in a match where your ally was taken down first like Rue, how would you strategize your next move to survive against top opponents like Cato?<br><br> 2. In the 'Hunger Games' novel, why does Cato decide to spare Katniss's life after their encounter?    | What was she babbling about? You're Rue's ally? - I... I... we teamed up. We blew up the food of the Pros. I wanted to save her. Really did. But he found her first, the guy from District One - I say. Perhaps if Cato knows I helped Rue, he will kill me quickly and painlessly. - Did you kill him? - he asks grimly. - Yes. I killed him. And I covered her body with flowers. I sang to her till she fell asleep. Tears well up in my eyes. Will and strength are leaving me. There's only Rue, the pain in my head, fear of Cato and the moan of the dying girl. - Fell asleep? - mocks Cato. - Died. I sang to her till she died - I say. - Your district... sent me bread. I raise my hand - not for an arrow; I won't have time anyway. I just blow my nose. - Cato, make it quick, okay? His face shows conflicting emotions. Cato puts down the rock and says with almost a reproach: - This time, only this time, I'm letting you go. For the girl. We are even. No one owes anything to anyone anymore, understand? I nod, because I do understand. Understand about debts. About how bad it is to have them. Understand that if Cato wins, he will return to a district that has forgotten the rules to thank me. And Cato is neglecting them, too. Right now, he's not going to crack my head with a stone.  | b317200c-7fd3-5804-bbe4-bff33432ad0e         |\n",
    "|-----------------------|----------------------|-------------------|\n",
    "\n",
    "</small>"
   ]
  },
  {
   "cell_type": "code",
   "execution_count": 80,
   "metadata": {},
   "outputs": [],
   "source": [
    "columns_to_include = [\n",
    "    \"keywords_or_phrases\",\n",
    "    \"chunk_id\",\n",
    "    \"queries\",\n",
    "]"
   ]
  },
  {
   "cell_type": "code",
   "execution_count": 81,
   "metadata": {},
   "outputs": [],
   "source": [
    "def wrapper_for_docs(\n",
    "    pl_data: pl.DataFrame,\n",
    "    content_field: str,\n",
    "    keywords_or_phrases_field: str = None,\n",
    "    batch_size: int = 128,\n",
    "    dataframe_field: str = None,\n",
    "    id_field: str = None,\n",
    "    columns_to_include: list[str] | None = None,\n",
    "    filters: dict | None = None,\n",
    "):\n",
    "    js_data = pl_data.to_dicts()\n",
    "    for js_chunk in tqdm(js_data):\n",
    "        js_meta = {k: js_chunk[k] for k in columns_to_include}\n",
    "        if dataframe_field is None and id_field is None:\n",
    "            yield dict(content=js_chunk[content_field], meta=js_meta)\n",
    "        elif dataframe_field is None:\n",
    "            yield dict(content=js_chunk[content_field], id=js_chunk[id_field], meta=js_meta)\n",
    "        elif id_field is None:\n",
    "            yield dict(content=js_chunk[content_field], dataframe=js_chunk[dataframe_field], meta=js_meta)\n",
    "        else:\n",
    "            yield dict(content=js_chunk[content_field], id=js_chunk[id_field], dataframe=js_chunk[dataframe_field], meta=js_meta)"
   ]
  },
  {
   "cell_type": "code",
   "execution_count": 82,
   "metadata": {},
   "outputs": [
    {
     "name": "stderr",
     "output_type": "stream",
     "text": [
      "100%|██████████| 4992/4992 [00:00<00:00, 1890390.54it/s]\n"
     ]
    }
   ],
   "source": [
    "js_docs = list(wrapper_for_docs(\n",
    "    pl_docs,\n",
    "     content_field=\"content\",\n",
    "     dataframe_field=\"title\",\n",
    "     id_field=\"chunk_id\",\n",
    "     columns_to_include=columns_to_include\n",
    "))"
   ]
  },
  {
   "cell_type": "markdown",
   "metadata": {},
   "source": [
    "### Modeling\n",
    "\n",
    "> See <a href=\"https://huggingface.co/intfloat/multilingual-e5-large\">E5 large</a> , <a href=\"https://huggingface.co/intfloat/multilingual-e5-base\">E5 base</a>, <a href=\"https://huggingface.co/intfloat/multilingual-e5-small\">E5 small</a> family of encoder models. More coming soon\n",
    " \n",
    "> 📎 <a href=\"https://arxiv.org/abs/2212.03533\">paper</a>\n",
    "\n",
    "> ❗️For this tutorial we pick the base one `intfloat/multilingual-e5-base` as a trade-off between performance and precision"
   ]
  },
  {
   "cell_type": "code",
   "execution_count": 83,
   "metadata": {},
   "outputs": [
    {
     "name": "stderr",
     "output_type": "stream",
     "text": [
      "\u001b[32m2025-04-01 20:02:55.625\u001b[0m | \u001b[1mINFO    \u001b[0m | \u001b[36mjustatom.modeling.mask\u001b[0m:\u001b[36mload\u001b[0m:\u001b[36m144\u001b[0m - \u001b[1mLoading from huggingface hub via \"intfloat/multilingual-e5-base\"\u001b[0m\n"
     ]
    }
   ],
   "source": [
    "model_name_or_path = \"intfloat/multilingual-e5-base\"\n",
    "\n",
    "from justatom.modeling.mask import ILanguageModel\n",
    "from justatom.running.m1 import M1LMRunner\n",
    "from justatom.processing import INFERProcessor, ITokenizer\n",
    "lm_model = ILanguageModel.load(model_name_or_path)"
   ]
  },
  {
   "cell_type": "code",
   "execution_count": 84,
   "metadata": {},
   "outputs": [],
   "source": [
    "def maybe_cuda_or_mps():\n",
    "    if torch.backends.mps.is_built():\n",
    "        return \"mps\"\n",
    "    elif torch.cuda.is_available():\n",
    "        return \"cuda:0\"\n",
    "    else:\n",
    "        return \"cpu\""
   ]
  },
  {
   "cell_type": "code",
   "execution_count": 85,
   "metadata": {},
   "outputs": [],
   "source": [
    "device = maybe_cuda_or_mps()"
   ]
  },
  {
   "cell_type": "code",
   "execution_count": 86,
   "metadata": {},
   "outputs": [
    {
     "name": "stderr",
     "output_type": "stream",
     "text": [
      "\u001b[32m2025-04-01 20:03:00.030\u001b[0m | \u001b[1mINFO    \u001b[0m | \u001b[36mjustatom.running.m1\u001b[0m:\u001b[36mto\u001b[0m:\u001b[36m33\u001b[0m - \u001b[1mMoving to device mps\u001b[0m\n"
     ]
    }
   ],
   "source": [
    "runner = M1LMRunner(model=lm_model, prediction_heads=[], device=device)"
   ]
  },
  {
   "cell_type": "code",
   "execution_count": 87,
   "metadata": {},
   "outputs": [],
   "source": [
    "processor = INFERProcessor(ITokenizer.from_pretrained(model_name_or_path))"
   ]
  },
  {
   "cell_type": "markdown",
   "metadata": {},
   "source": [
    "❗️According to the <a href=\"https://arxiv.org/abs/2212.03533\">paper</a> E5 family is trained in assymetric way meaning:\n",
    "\n",
    "> Use `\"query: \"` and `\"passage: \"` correspondingly for asymmetric tasks such as passage retrieval in open QA, ad-hoc information retrieval.\n",
    "\n",
    "> Use `\"query: \"` prefix for symmetric tasks such as semantic similarity, bitext mining, paraphrase retrieval.\n",
    "\n",
    "> Use `\"query: \"` prefix if you want to use embeddings as features, such as linear probing classification, clustering."
   ]
  },
  {
   "cell_type": "code",
   "execution_count": 88,
   "metadata": {},
   "outputs": [],
   "source": [
    "processor.prefix = \"passage: \""
   ]
  },
  {
   "cell_type": "markdown",
   "metadata": {},
   "source": [
    "> Let's put everything together in one simple abstraction - `Indexer`"
   ]
  },
  {
   "cell_type": "code",
   "execution_count": 89,
   "metadata": {},
   "outputs": [
    {
     "name": "stderr",
     "output_type": "stream",
     "text": [
      "\u001b[32m2025-04-01 20:03:03.239\u001b[0m | \u001b[1mINFO    \u001b[0m | \u001b[36mjustatom.running.m1\u001b[0m:\u001b[36mto\u001b[0m:\u001b[36m33\u001b[0m - \u001b[1mMoving to device mps\u001b[0m\n"
     ]
    }
   ],
   "source": [
    "from justatom.running.indexer import API as IndexerAPI\n",
    "\n",
    "# 1. \"embedding\" is the way to index the given ANN store (weaviate)\n",
    "# 2. runner is responsible for mapping docs to embeddings\n",
    "# 3. processor is responsible for tokenizing given chunks\n",
    "# 4. device - compute everything on selected `device`\n",
    "\n",
    "ix_runner = IndexerAPI.named(\"embedding\", runner=runner, store=store, processor=processor, device=device)"
   ]
  },
  {
   "cell_type": "code",
   "execution_count": 30,
   "metadata": {},
   "outputs": [
    {
     "data": {
      "application/vnd.jupyter.widget-view+json": {
       "model_id": "42e1f9b18ebe43ed9b1e290e04bfa2d7",
       "version_major": 2,
       "version_minor": 0
      },
      "text/plain": [
       "Preprocessing dataset:   0%|          | 0/10 [00:00<?, ? Dicts/s]"
      ]
     },
     "metadata": {},
     "output_type": "display_data"
    },
    {
     "data": {
      "application/vnd.jupyter.widget-view+json": {
       "model_id": "6cbefcbb1c334105b3cb5f6cc0595caa",
       "version_major": 2,
       "version_minor": 0
      },
      "text/plain": [
       "0it [00:00, ?it/s]"
      ]
     },
     "metadata": {},
     "output_type": "display_data"
    }
   ],
   "source": [
    "async for js_batch_docs in ix_runner.index(js_docs, batch_size=512, batch_size_per_request=128):\n",
    "    pass"
   ]
  },
  {
   "cell_type": "markdown",
   "metadata": {},
   "source": [
    "❗️According to the <a href=\"https://arxiv.org/abs/2212.03533\">paper</a> E5 family is trained in assymetric way meaning we have to set `prefix` back to `query: `"
   ]
  },
  {
   "cell_type": "code",
   "execution_count": 90,
   "metadata": {},
   "outputs": [],
   "source": [
    "processor.prefix = \"query: \""
   ]
  },
  {
   "cell_type": "code",
   "execution_count": 91,
   "metadata": {},
   "outputs": [],
   "source": [
    "queries = [\n",
    "    \"thinking about 'The Hunger Games' mechanics, if you were in the same shoes as Gale, entering your name forty-two times to feed your fam, how would you strategize your game in the actual Arena? Would you team up or go solo based on these high stakes?\",\n",
    "    \"In the universe of 'The Hunger Games', what are tesserae and what do they offer to the participants in the Harvest?\",\n",
    "    \"In 'Harry Potter and the Philosopher's Stone', what misconception had Harry and Hermione initially had about Snape's intentions before learning the truth?\",\n",
    "    \"Hey peeps, why is Harry all jittery and pacing around the room even after telling Hermione about the whole Snape and Voldemort situation?\",\n",
    "    \"Hey fellow gamers, in The Hunger Games universe, if you were in a match where your ally was taken down first like Rue, how would you strategize your next move to survive against top opponents like Cato?\",\n",
    "    \"In the 'Hunger Games' novel, why does Cato decide to spare Katniss's life after their encounter?\"\n",
    "] * 1"
   ]
  },
  {
   "cell_type": "code",
   "execution_count": 92,
   "metadata": {},
   "outputs": [],
   "source": [
    "from justatom.running.retriever import API as RetrieverApi"
   ]
  },
  {
   "cell_type": "markdown",
   "metadata": {},
   "source": [
    "#### Pure keywords search"
   ]
  },
  {
   "cell_type": "code",
   "execution_count": 93,
   "metadata": {},
   "outputs": [],
   "source": [
    "retriever = RetrieverApi.named(\"keywords\", store=store)"
   ]
  },
  {
   "cell_type": "code",
   "execution_count": 95,
   "metadata": {},
   "outputs": [],
   "source": [
    "filters = {\n",
    "    \"operator\": \"AND\",\n",
    "    \"conditions\": [\n",
    "        {\n",
    "            \"field\": \"dataframe\",\n",
    "            \"operator\": \"==\",\n",
    "            \"value\": \"Сойка-пересмешница\"\n",
    "        }\n",
    "    ]\n",
    "}"
   ]
  },
  {
   "cell_type": "code",
   "execution_count": 96,
   "metadata": {},
   "outputs": [
    {
     "data": {
      "text/plain": [
       "4992"
      ]
     },
     "execution_count": 96,
     "metadata": {},
     "output_type": "execute_result"
    }
   ],
   "source": [
    "await store.count_documents()"
   ]
  },
  {
   "cell_type": "code",
   "execution_count": 97,
   "metadata": {},
   "outputs": [
    {
     "name": "stderr",
     "output_type": "stream",
     "text": [
      "\u001b[32m2025-04-01 20:03:35.795\u001b[0m | \u001b[1mINFO    \u001b[0m | \u001b[36mjustatom.storing.weaviate\u001b[0m:\u001b[36msearch_by_keywords\u001b[0m:\u001b[36m506\u001b[0m - \u001b[1mSEARCH | algo=[BM25] | collection_name=[Justatom_collection]\u001b[0m\n",
      "\u001b[32m2025-04-01 20:03:35.968\u001b[0m | \u001b[1mINFO    \u001b[0m | \u001b[36mjustatom.storing.weaviate\u001b[0m:\u001b[36msearch_by_keywords\u001b[0m:\u001b[36m506\u001b[0m - \u001b[1mSEARCH | algo=[BM25] | collection_name=[Justatom_collection]\u001b[0m\n",
      "\u001b[32m2025-04-01 20:03:36.131\u001b[0m | \u001b[1mINFO    \u001b[0m | \u001b[36mjustatom.storing.weaviate\u001b[0m:\u001b[36msearch_by_keywords\u001b[0m:\u001b[36m506\u001b[0m - \u001b[1mSEARCH | algo=[BM25] | collection_name=[Justatom_collection]\u001b[0m\n"
     ]
    },
    {
     "name": "stdout",
     "output_type": "stream",
     "text": [
      "Wearing headphones, I heard Gale's voice telling me to come back. However, the Hunger Games backpack reminded me of something else. Hooking the bag's strap over the back of the chair, I sprinted up the steps to my bedroom. Inside the closet, there was my father's hunting jacket. Before the Suppression, I had brought it here from our old home, thinking that its presence would calm my mother and sister when I die.\n",
      "\n",
      "\n",
      "Now, after all the hustle and bustle is over and we've reached our goal, I realize I have no idea what I'm going to face in District 8. In fact, I know nothing about the state of the war or what victory will cost. Or, what will happen if we win. Plutarch tries to explain everything to me in simple words. First of all, every district is now at war with the Capitol, except for the second one, which has always been under the patronage of our enemies, despite their participation in the Hunger Games. They received more food and better living conditions. After the Dark Days and the supposed destruction of District 13, District 2 became the new defense center of the Capitol. And although it was presented as a national quarry, it meant as much as the Thirtieth was a center for graphite mining.\n",
      "\n",
      "\n"
     ]
    },
    {
     "name": "stderr",
     "output_type": "stream",
     "text": [
      "\u001b[32m2025-04-01 20:03:36.403\u001b[0m | \u001b[1mINFO    \u001b[0m | \u001b[36mjustatom.storing.weaviate\u001b[0m:\u001b[36msearch_by_keywords\u001b[0m:\u001b[36m506\u001b[0m - \u001b[1mSEARCH | algo=[BM25] | collection_name=[Justatom_collection]\u001b[0m\n",
      "\u001b[32m2025-04-01 20:03:36.557\u001b[0m | \u001b[1mINFO    \u001b[0m | \u001b[36mjustatom.storing.weaviate\u001b[0m:\u001b[36msearch_by_keywords\u001b[0m:\u001b[36m506\u001b[0m - \u001b[1mSEARCH | algo=[BM25] | collection_name=[Justatom_collection]\u001b[0m\n"
     ]
    },
    {
     "name": "stdout",
     "output_type": "stream",
     "text": [
      "Extreme measures were applied in District Twelve after I intervened in Gale's punishment. My stylist, Cinna, covered in blood, beaten and unaware of what was happening, in the Launch Room before the start of the Games. Plutarch's sources believed he had been killed during interrogation. The beautiful, enigmatic, and wonderful Cinna was dead because of me. I pushed this thought away, as it was too painful to continue thinking about it without losing my fragile composure. What am I going to do?\n",
      "\n",
      "\n",
      "What am I going to do?- I whisper to the walls. Because I really don't know that. People keep telling me, telling, telling, telling. Plutarch Heavensbee. His right hand Flavia Cardia. All the gathering of District leaders. Military officials. But not Alma Coin, the president of Thirteen, who is always as punctual as a clock. She was about fifty, and she had gray hair that fell freely onto her shoulders. I'm somewhat charmed by her hair, as she can arrange it into a very tidy bun. Her eyes are gray, but not like those of the slags. They are very pale, as if all the color was drained from them. The color of dirty, melting snow.\n",
      "\n",
      "\n"
     ]
    },
    {
     "name": "stderr",
     "output_type": "stream",
     "text": [
      "\u001b[32m2025-04-01 20:03:36.816\u001b[0m | \u001b[1mINFO    \u001b[0m | \u001b[36mjustatom.storing.weaviate\u001b[0m:\u001b[36msearch_by_keywords\u001b[0m:\u001b[36m506\u001b[0m - \u001b[1mSEARCH | algo=[BM25] | collection_name=[Justatom_collection]\u001b[0m\n"
     ]
    },
    {
     "name": "stdout",
     "output_type": "stream",
     "text": [
      "The melody of her death, playing in the background of her murder. The birds didn’t know this. They immediately picked up the simple tune and started hopping back and forth, creating a sweet harmony. Like they did during the Hunger Games, before the killer bees were dropped from the tree, before the race to the Cornucopia, and before Cato was slowly and bloodily gnawed away... \"Want to hear them sing a real song?\" I blurted out. Nothing can stop these memories. I’m on my feet, moving back into the forest, placing my hand on the rough trunk of the maple where the birds are sitting.\n",
      "\n",
      "\n",
      "The melody of her death, playing in the background of her murder. The birds didn’t know this. They immediately picked up the simple tune and started hopping back and forth, creating a sweet harmony. Like they did during the Hunger Games, before the killer bees were dropped from the tree, before the race to the Cornucopia, and before Cato was slowly and bloodily gnawed away... \"Want to hear them sing a real song?\" I blurted out. Nothing can stop these memories. I’m on my feet, moving back into the forest, placing my hand on the rough trunk of the maple where the birds are sitting.\n"
     ]
    }
   ],
   "source": [
    "for pos, query in enumerate(queries):\n",
    "    response = await retriever.retrieve_topk(query, top_k=1, filters=filters)\n",
    "    print(response[0][0].content)\n",
    "    if pos < len(queries) - 1:\n",
    "        print(\"\\n\")"
   ]
  },
  {
   "cell_type": "markdown",
   "metadata": {},
   "source": [
    "#### Search by embedding"
   ]
  },
  {
   "cell_type": "code",
   "execution_count": 98,
   "metadata": {},
   "outputs": [],
   "source": [
    "retriever = RetrieverApi.named(\"embedding\", store=store, runner=runner, processor=processor, device=device)"
   ]
  },
  {
   "cell_type": "code",
   "execution_count": 99,
   "metadata": {},
   "outputs": [
    {
     "data": {
      "text/plain": [
       "6"
      ]
     },
     "execution_count": 99,
     "metadata": {},
     "output_type": "execute_result"
    }
   ],
   "source": [
    "len(queries)"
   ]
  },
  {
   "cell_type": "code",
   "execution_count": 100,
   "metadata": {},
   "outputs": [
    {
     "data": {
      "application/vnd.jupyter.widget-view+json": {
       "model_id": "e0ff5a51072b4917913c78c6315d8986",
       "version_major": 2,
       "version_minor": 0
      },
      "text/plain": [
       "Preprocessing dataset:   0%|          | 0/1 [00:00<?, ? Dicts/s]"
      ]
     },
     "metadata": {},
     "output_type": "display_data"
    },
    {
     "name": "stdout",
     "output_type": "stream",
     "text": [
      "And here's where the real interest begins. Suppose you're poor and starving. Then you can ask to be included in the Harvest more times than you're entitled to, and in return you'd get tesserae. They give you grain and oil for a whole year for one tessera per person. You won't be full, but it's better than nothing. You can take tesserae for the whole family. When I was twelve, my name was entered four times. Once by law, and once more for tesserae for Prim, my mother, and myself. The next years had to do the same. And since the price of a tessera increases by one entry each year, now that I've turned sixteen, my name will be on twenty cards. Gale is eighteen, and he's been feeding a family of five for seven years. His name will be entered forty two times! It's clear that people like Madge, who has never had to risk because of tesserae, annoy Gale. Next to us, the inhabitants of the slag heap, she simply has no chance of getting into the games. Well, almost no chance. Of course, the rules are set by the Capitol, not the districts, let alone Madge's relatives, and it's still hard to sympathize with those who, like you, don't have to trade their own skin for a piece of bread.\n",
      "\n",
      "\n"
     ]
    },
    {
     "data": {
      "application/vnd.jupyter.widget-view+json": {
       "model_id": "30090534ac6048bb986cd0733014938f",
       "version_major": 2,
       "version_minor": 0
      },
      "text/plain": [
       "Preprocessing dataset:   0%|          | 0/1 [00:00<?, ? Dicts/s]"
      ]
     },
     "metadata": {},
     "output_type": "display_data"
    },
    {
     "name": "stdout",
     "output_type": "stream",
     "text": [
      "And here's where the real interest begins. Suppose you're poor and starving. Then you can ask to be included in the Harvest more times than you're entitled to, and in return you'd get tesserae. They give you grain and oil for a whole year for one tessera per person. You won't be full, but it's better than nothing. You can take tesserae for the whole family. When I was twelve, my name was entered four times. Once by law, and once more for tesserae for Prim, my mother, and myself. The next years had to do the same. And since the price of a tessera increases by one entry each year, now that I've turned sixteen, my name will be on twenty cards. Gale is eighteen, and he's been feeding a family of five for seven years. His name will be entered forty two times! It's clear that people like Madge, who has never had to risk because of tesserae, annoy Gale. Next to us, the inhabitants of the slag heap, she simply has no chance of getting into the games. Well, almost no chance. Of course, the rules are set by the Capitol, not the districts, let alone Madge's relatives, and it's still hard to sympathize with those who, like you, don't have to trade their own skin for a piece of bread.\n",
      "\n",
      "\n"
     ]
    },
    {
     "data": {
      "application/vnd.jupyter.widget-view+json": {
       "model_id": "029a21c412e441068a7c9000bab08797",
       "version_major": 2,
       "version_minor": 0
      },
      "text/plain": [
       "Preprocessing dataset:   0%|          | 0/1 [00:00<?, ? Dicts/s]"
      ]
     },
     "metadata": {},
     "output_type": "display_data"
    },
    {
     "name": "stdout",
     "output_type": "stream",
     "text": [
      "There have been many rumors over the centuries that the Philosopher's Stone has already been created, but the only existing stone today belongs to Mr. Nicholas Flamel, a distinguished alchemist and opera fanatic. Mr. Flamel, who celebrated his six hundred and sixty-fifth birthday last year, enjoys the peace and solitude in Devon with his wife Perenelle (six hundred and fifty-eight years old). \n",
      "'Understood?' Hermione asked when Harry and Ron finished reading. 'It must be, the dog safeguards Flamel's philosopher's stone! I have no doubt that he asked Dumbledore to do this, because they are friends and also because Flamel knew that someone was hunting for his stone. That's why he wanted the stone to be withdrawn from Gringotts! \n",
      "'The stone that turns everything into gold and guarantees you immortality!' Harry exclaimed. 'No wonder Snape wants to steal it. Anyone would want such a stone.\n",
      "\n",
      "\n"
     ]
    },
    {
     "data": {
      "application/vnd.jupyter.widget-view+json": {
       "model_id": "727d9bcab2204f1fb38dd1540ca7d2c9",
       "version_major": 2,
       "version_minor": 0
      },
      "text/plain": [
       "Preprocessing dataset:   0%|          | 0/1 [00:00<?, ? Dicts/s]"
      ]
     },
     "metadata": {},
     "output_type": "display_data"
    },
    {
     "name": "stdout",
     "output_type": "stream",
     "text": [
      "Ron was asleep in the common room - apparently, he had been waiting for their return and had dozed off unnoticed. When Harry roughly shook him, Ron began to yell something about breaking the rules of a game, as if he were dreaming about a Quidditch match. However, after a few seconds, Ron completely woke up and, with his eyes wide open, listened to the story of Hermione and Harry. Harry was so excited that he could not sit still and paced back and forth across the room, trying to stay as close to the fireplace as possible. He was still shaking with cold. 'Snape wants to steal the stone for Voldemort. And Voldemort is waiting in the forest... And all this time we thought Snape wanted to steal the stone to become rich... And Voldemort...'\n",
      "\n",
      "\n"
     ]
    },
    {
     "data": {
      "application/vnd.jupyter.widget-view+json": {
       "model_id": "1a653bfb9a3d49fdab89f7f0a32b4686",
       "version_major": 2,
       "version_minor": 0
      },
      "text/plain": [
       "Preprocessing dataset:   0%|          | 0/1 [00:00<?, ? Dicts/s]"
      ]
     },
     "metadata": {},
     "output_type": "display_data"
    },
    {
     "name": "stdout",
     "output_type": "stream",
     "text": [
      "What was she babbling about? You're Rue's ally? - I... I... we teamed up. We blew up the food of the Pros. I wanted to save her. Really did. But he found her first, the guy from District One - I say. Perhaps if Cato knows I helped Rue, he will kill me quickly and painlessly. - Did you kill him? - he asks grimly. - Yes. I killed him. And I covered her body with flowers. I sang to her till she fell asleep. Tears well up in my eyes. Will and strength are leaving me. There's only Rue, the pain in my head, fear of Cato and the moan of the dying girl. - Fell asleep? - mocks Cato. - Died. I sang to her till she died - I say. - Your district... sent me bread. I raise my hand - not for an arrow; I won't have time anyway. I just blow my nose. - Cato, make it quick, okay? His face shows conflicting emotions. Cato puts down the rock and says with almost a reproach: - This time, only this time, I'm letting you go. For the girl. We are even. No one owes anything to anyone anymore, understand? I nod, because I do understand. Understand about debts. About how bad it is to have them. Understand that if Cato wins, he will return to a district that has forgotten the rules to thank me. And Cato is neglecting them, too. Right now, he's not going to crack my head with a stone.\n",
      "\n",
      "\n"
     ]
    },
    {
     "data": {
      "application/vnd.jupyter.widget-view+json": {
       "model_id": "8c9b067be49d461494886327c5f198ec",
       "version_major": 2,
       "version_minor": 0
      },
      "text/plain": [
       "Preprocessing dataset:   0%|          | 0/1 [00:00<?, ? Dicts/s]"
      ]
     },
     "metadata": {},
     "output_type": "display_data"
    },
    {
     "name": "stdout",
     "output_type": "stream",
     "text": [
      "What was she babbling about? You're Rue's ally? - I... I... we teamed up. We blew up the food of the Pros. I wanted to save her. Really did. But he found her first, the guy from District One - I say. Perhaps if Cato knows I helped Rue, he will kill me quickly and painlessly. - Did you kill him? - he asks grimly. - Yes. I killed him. And I covered her body with flowers. I sang to her till she fell asleep. Tears well up in my eyes. Will and strength are leaving me. There's only Rue, the pain in my head, fear of Cato and the moan of the dying girl. - Fell asleep? - mocks Cato. - Died. I sang to her till she died - I say. - Your district... sent me bread. I raise my hand - not for an arrow; I won't have time anyway. I just blow my nose. - Cato, make it quick, okay? His face shows conflicting emotions. Cato puts down the rock and says with almost a reproach: - This time, only this time, I'm letting you go. For the girl. We are even. No one owes anything to anyone anymore, understand? I nod, because I do understand. Understand about debts. About how bad it is to have them. Understand that if Cato wins, he will return to a district that has forgotten the rules to thank me. And Cato is neglecting them, too. Right now, he's not going to crack my head with a stone.\n"
     ]
    }
   ],
   "source": [
    "for pos, query in enumerate(queries):\n",
    "    response = await retriever.retrieve_topk(query, top_k=1)\n",
    "    content = response[0][0].content if len(response[0]) > 0 else \"<EMPTY>\"\n",
    "    print(content)\n",
    "    if pos < len(queries) - 1:\n",
    "        print(\"\\n\")"
   ]
  },
  {
   "cell_type": "markdown",
   "metadata": {},
   "source": [
    "#### Search by embedding AND keywords\n",
    "> ❓How do we combine them? First, introduce a parameter called `alpha`, which can be any value from 0.0 to 1.0. \n",
    "\n",
    "> When `alpha = 0.0`, the search relies entirely on keywords (pure keyword search). \n",
    "\n",
    "> When `alpha = 1.0`, it uses only semantic embeddings."
   ]
  },
  {
   "cell_type": "code",
   "execution_count": 101,
   "metadata": {},
   "outputs": [
    {
     "name": "stderr",
     "output_type": "stream",
     "text": [
      "\u001b[32m2025-04-01 20:03:55.691\u001b[0m | \u001b[1mINFO    \u001b[0m | \u001b[36mjustatom.running.retriever\u001b[0m:\u001b[36m__init__\u001b[0m:\u001b[36m212\u001b[0m - \u001b[1mMoving [M1LMRunner] to the new device = cpu. Old device = mps\u001b[0m\n",
      "\u001b[32m2025-04-01 20:03:55.692\u001b[0m | \u001b[1mINFO    \u001b[0m | \u001b[36mjustatom.running.m1\u001b[0m:\u001b[36mto\u001b[0m:\u001b[36m33\u001b[0m - \u001b[1mMoving to device cpu\u001b[0m\n"
     ]
    }
   ],
   "source": [
    "retriever = RetrieverApi.named(\"hybrid\", store=store, processor=processor, runner=runner)"
   ]
  },
  {
   "cell_type": "code",
   "execution_count": 102,
   "metadata": {},
   "outputs": [
    {
     "data": {
      "application/vnd.jupyter.widget-view+json": {
       "model_id": "af44418150db4749959a609deca3817c",
       "version_major": 2,
       "version_minor": 0
      },
      "text/plain": [
       "Preprocessing dataset:   0%|          | 0/1 [00:00<?, ? Dicts/s]"
      ]
     },
     "metadata": {},
     "output_type": "display_data"
    },
    {
     "name": "stdout",
     "output_type": "stream",
     "text": [
      "And here's where the real interest begins. Suppose you're poor and starving. Then you can ask to be included in the Harvest more times than you're entitled to, and in return you'd get tesserae. They give you grain and oil for a whole year for one tessera per person. You won't be full, but it's better than nothing. You can take tesserae for the whole family. When I was twelve, my name was entered four times. Once by law, and once more for tesserae for Prim, my mother, and myself. The next years had to do the same. And since the price of a tessera increases by one entry each year, now that I've turned sixteen, my name will be on twenty cards. Gale is eighteen, and he's been feeding a family of five for seven years. His name will be entered forty two times! It's clear that people like Madge, who has never had to risk because of tesserae, annoy Gale. Next to us, the inhabitants of the slag heap, she simply has no chance of getting into the games. Well, almost no chance. Of course, the rules are set by the Capitol, not the districts, let alone Madge's relatives, and it's still hard to sympathize with those who, like you, don't have to trade their own skin for a piece of bread.\n",
      "\n",
      "\n"
     ]
    },
    {
     "data": {
      "application/vnd.jupyter.widget-view+json": {
       "model_id": "5f05469f8951423f947c8a107a856fe5",
       "version_major": 2,
       "version_minor": 0
      },
      "text/plain": [
       "Preprocessing dataset:   0%|          | 0/1 [00:00<?, ? Dicts/s]"
      ]
     },
     "metadata": {},
     "output_type": "display_data"
    },
    {
     "name": "stdout",
     "output_type": "stream",
     "text": [
      "And here's where the real interest begins. Suppose you're poor and starving. Then you can ask to be included in the Harvest more times than you're entitled to, and in return you'd get tesserae. They give you grain and oil for a whole year for one tessera per person. You won't be full, but it's better than nothing. You can take tesserae for the whole family. When I was twelve, my name was entered four times. Once by law, and once more for tesserae for Prim, my mother, and myself. The next years had to do the same. And since the price of a tessera increases by one entry each year, now that I've turned sixteen, my name will be on twenty cards. Gale is eighteen, and he's been feeding a family of five for seven years. His name will be entered forty two times! It's clear that people like Madge, who has never had to risk because of tesserae, annoy Gale. Next to us, the inhabitants of the slag heap, she simply has no chance of getting into the games. Well, almost no chance. Of course, the rules are set by the Capitol, not the districts, let alone Madge's relatives, and it's still hard to sympathize with those who, like you, don't have to trade their own skin for a piece of bread.\n",
      "\n",
      "\n"
     ]
    },
    {
     "data": {
      "application/vnd.jupyter.widget-view+json": {
       "model_id": "27cd64431076476997b7e783c3925c07",
       "version_major": 2,
       "version_minor": 0
      },
      "text/plain": [
       "Preprocessing dataset:   0%|          | 0/1 [00:00<?, ? Dicts/s]"
      ]
     },
     "metadata": {},
     "output_type": "display_data"
    },
    {
     "name": "stdout",
     "output_type": "stream",
     "text": [
      "There have been many rumors over the centuries that the Philosopher's Stone has already been created, but the only existing stone today belongs to Mr. Nicholas Flamel, a distinguished alchemist and opera fanatic. Mr. Flamel, who celebrated his six hundred and sixty-fifth birthday last year, enjoys the peace and solitude in Devon with his wife Perenelle (six hundred and fifty-eight years old). \n",
      "'Understood?' Hermione asked when Harry and Ron finished reading. 'It must be, the dog safeguards Flamel's philosopher's stone! I have no doubt that he asked Dumbledore to do this, because they are friends and also because Flamel knew that someone was hunting for his stone. That's why he wanted the stone to be withdrawn from Gringotts! \n",
      "'The stone that turns everything into gold and guarantees you immortality!' Harry exclaimed. 'No wonder Snape wants to steal it. Anyone would want such a stone.\n",
      "\n",
      "\n"
     ]
    },
    {
     "data": {
      "application/vnd.jupyter.widget-view+json": {
       "model_id": "84c407cd5e0d46d9b222b21b7120b767",
       "version_major": 2,
       "version_minor": 0
      },
      "text/plain": [
       "Preprocessing dataset:   0%|          | 0/1 [00:00<?, ? Dicts/s]"
      ]
     },
     "metadata": {},
     "output_type": "display_data"
    },
    {
     "name": "stdout",
     "output_type": "stream",
     "text": [
      "Ron was asleep in the common room - apparently, he had been waiting for their return and had dozed off unnoticed. When Harry roughly shook him, Ron began to yell something about breaking the rules of a game, as if he were dreaming about a Quidditch match. However, after a few seconds, Ron completely woke up and, with his eyes wide open, listened to the story of Hermione and Harry. Harry was so excited that he could not sit still and paced back and forth across the room, trying to stay as close to the fireplace as possible. He was still shaking with cold. 'Snape wants to steal the stone for Voldemort. And Voldemort is waiting in the forest... And all this time we thought Snape wanted to steal the stone to become rich... And Voldemort...'\n",
      "\n",
      "\n"
     ]
    },
    {
     "data": {
      "application/vnd.jupyter.widget-view+json": {
       "model_id": "7b51fa142cc24cd8bc7aa1aa92221644",
       "version_major": 2,
       "version_minor": 0
      },
      "text/plain": [
       "Preprocessing dataset:   0%|          | 0/1 [00:00<?, ? Dicts/s]"
      ]
     },
     "metadata": {},
     "output_type": "display_data"
    },
    {
     "name": "stdout",
     "output_type": "stream",
     "text": [
      "What was she babbling about? You're Rue's ally? - I... I... we teamed up. We blew up the food of the Pros. I wanted to save her. Really did. But he found her first, the guy from District One - I say. Perhaps if Cato knows I helped Rue, he will kill me quickly and painlessly. - Did you kill him? - he asks grimly. - Yes. I killed him. And I covered her body with flowers. I sang to her till she fell asleep. Tears well up in my eyes. Will and strength are leaving me. There's only Rue, the pain in my head, fear of Cato and the moan of the dying girl. - Fell asleep? - mocks Cato. - Died. I sang to her till she died - I say. - Your district... sent me bread. I raise my hand - not for an arrow; I won't have time anyway. I just blow my nose. - Cato, make it quick, okay? His face shows conflicting emotions. Cato puts down the rock and says with almost a reproach: - This time, only this time, I'm letting you go. For the girl. We are even. No one owes anything to anyone anymore, understand? I nod, because I do understand. Understand about debts. About how bad it is to have them. Understand that if Cato wins, he will return to a district that has forgotten the rules to thank me. And Cato is neglecting them, too. Right now, he's not going to crack my head with a stone.\n",
      "\n",
      "\n"
     ]
    },
    {
     "data": {
      "application/vnd.jupyter.widget-view+json": {
       "model_id": "098e803d79b6417c942598cc6ce10f19",
       "version_major": 2,
       "version_minor": 0
      },
      "text/plain": [
       "Preprocessing dataset:   0%|          | 0/1 [00:00<?, ? Dicts/s]"
      ]
     },
     "metadata": {},
     "output_type": "display_data"
    },
    {
     "name": "stdout",
     "output_type": "stream",
     "text": [
      "What was she babbling about? You're Rue's ally? - I... I... we teamed up. We blew up the food of the Pros. I wanted to save her. Really did. But he found her first, the guy from District One - I say. Perhaps if Cato knows I helped Rue, he will kill me quickly and painlessly. - Did you kill him? - he asks grimly. - Yes. I killed him. And I covered her body with flowers. I sang to her till she fell asleep. Tears well up in my eyes. Will and strength are leaving me. There's only Rue, the pain in my head, fear of Cato and the moan of the dying girl. - Fell asleep? - mocks Cato. - Died. I sang to her till she died - I say. - Your district... sent me bread. I raise my hand - not for an arrow; I won't have time anyway. I just blow my nose. - Cato, make it quick, okay? His face shows conflicting emotions. Cato puts down the rock and says with almost a reproach: - This time, only this time, I'm letting you go. For the girl. We are even. No one owes anything to anyone anymore, understand? I nod, because I do understand. Understand about debts. About how bad it is to have them. Understand that if Cato wins, he will return to a district that has forgotten the rules to thank me. And Cato is neglecting them, too. Right now, he's not going to crack my head with a stone.\n"
     ]
    }
   ],
   "source": [
    "for pos, query in enumerate(queries):\n",
    "    response = await retriever.retrieve_topk(query, top_k=1, alpha=0.78)\n",
    "    content = response[0][0].content if len(response[0]) > 0 else \"<EMPTY>\"\n",
    "    print(content)\n",
    "    if pos < len(queries) - 1:\n",
    "        print(\"\\n\")"
   ]
  }
 ],
 "metadata": {
  "kernelspec": {
   "display_name": "optimus",
   "language": "python",
   "name": "python3"
  },
  "language_info": {
   "codemirror_mode": {
    "name": "ipython",
    "version": 3
   },
   "file_extension": ".py",
   "mimetype": "text/x-python",
   "name": "python",
   "nbconvert_exporter": "python",
   "pygments_lexer": "ipython3",
   "version": "3.11.9"
  },
  "orig_nbformat": 4
 },
 "nbformat": 4,
 "nbformat_minor": 2
}
