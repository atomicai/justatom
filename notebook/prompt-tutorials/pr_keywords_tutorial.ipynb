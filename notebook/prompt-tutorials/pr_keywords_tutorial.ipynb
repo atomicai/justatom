{
 "cells": [
  {
   "cell_type": "code",
   "execution_count": 1,
   "metadata": {},
   "outputs": [
    {
     "name": "stderr",
     "output_type": "stream",
     "text": [
      "/Users/justatom/ISpell/envs/justatom/lib/python3.11/site-packages/tqdm/auto.py:21: TqdmWarning: IProgress not found. Please update jupyter and ipywidgets. See https://ipywidgets.readthedocs.io/en/stable/user_install.html\n",
      "  from .autonotebook import tqdm as notebook_tqdm\n"
     ]
    }
   ],
   "source": [
    "from pathlib import Path\n",
    "import os\n",
    "import simplejson as json\n",
    "import polars as pl\n",
    "import json_repair\n",
    "from tqdm import tqdm\n",
    "from more_itertools import chunked\n",
    "from loguru import logger\n",
    "import asyncio as asio\n",
    "from justatom.tooling.stl import reuuid\n",
    "\n",
    "from justatom.etc.io import io_snapshot\n",
    "from justatom.tooling.reqs import openai_chat\n",
    "from justatom.tooling.coro import _limit_concurrency\n",
    "from justatom.running.igni import IGNIRunner"
   ]
  },
  {
   "cell_type": "code",
   "execution_count": 2,
   "metadata": {},
   "outputs": [],
   "source": [
    "def wrapper_for_props(d: dict, must_include_keys: list[str] = None) -> dict:\n",
    "    \"\"\"\n",
    "    :param d: Source doc\n",
    "    :param must_include_keys: List of keys to include\n",
    "    :return: New doc with only specified `must_include_keys`\n",
    "    \"\"\"\n",
    "    must_include_keys = d.keys() if must_include_keys is None else must_include_keys\n",
    "    return {key: d[key] for key in must_include_keys if key in d}"
   ]
  },
  {
   "cell_type": "code",
   "execution_count": 3,
   "metadata": {},
   "outputs": [],
   "source": [
    "def source_from_dataset(dataset_name_or_path, **props):\n",
    "    from justatom.storing.dataset import API as DatasetApi\n",
    "    import polars as pl\n",
    "\n",
    "    maybe_df_or_iter = DatasetApi.named(dataset_name_or_path).iterator(**props)\n",
    "    if isinstance(maybe_df_or_iter, pl.DataFrame):\n",
    "        pl_data = maybe_df_or_iter\n",
    "    else:\n",
    "        dataset = list(maybe_df_or_iter)\n",
    "        pl_data = pl.from_dicts(dataset)\n",
    "    return pl_data"
   ]
  },
  {
   "cell_type": "code",
   "execution_count": 4,
   "metadata": {},
   "outputs": [],
   "source": [
    "pl_docs = source_from_dataset(Path(os.getcwd()) / \".data\" / \"polaroids.ai.data.json\")\n",
    "js_docs = pl_docs.to_dicts()"
   ]
  },
  {
   "cell_type": "code",
   "execution_count": 5,
   "metadata": {},
   "outputs": [
    {
     "data": {
      "text/plain": [
       "{'content': 'Внутри располагалась первая красивая вещь, которую я встречала в 13 Дистрикте: копия луга, заполненного настоящими деревьями и цветущими растениями, и в изобилии порхающими колибри. Битти сидел неподвижно в инвалидном кресле посреди луга, наблюдая за нежно-зелёной птичкой, зависшей в воздухе и пьющей нектар из большого цветка апельсинового дерева.',\n",
       " 'title': 'Сойка-пересмешница',\n",
       " 'author': 'Сьюзен Коллинз',\n",
       " 'type': 'book',\n",
       " 'has_image': False,\n",
       " 'img_path': None,\n",
       " 'speaker': None,\n",
       " 'queries': ['Как выглядел луг в Дистрикте 13?',\n",
       "  'Какие элементы природы были представлены в копии луга из 13-го Дистрикта во вселенной \"Сойка-пересмешница\"?'],\n",
       " 'translation': \"Inside was the first beautiful thing I'd seen in District 13: a replica of a meadow, filled with real trees and blooming plants, and plenty of hummingbirds fluttering about. Beetee was sitting motionless in a wheelchair in the middle of the meadow, watching a tender green bird hovering in the air and drinking nectar from a large blossom of an orange tree.\",\n",
       " 'chunk_id': '50275823-ca7a-50f2-ae1f-3f945d24ab47',\n",
       " 'keywords_or_phrases': [{'keyword_or_phrase': '13 Дистрикт',\n",
       "   'explanation': 'Это один из районов, на которые разделена территория в мире \"Голодных игр\", где действие происходит в книге.'},\n",
       "  {'keyword_or_phrase': 'инвалидное кресло',\n",
       "   'explanation': 'Специальное кресло на колёсах, которое используют люди, у которых есть проблемы с передвижением.'},\n",
       "  {'keyword_or_phrase': 'нектар',\n",
       "   'explanation': 'Сладкая жидкость, которую производят цветы и которую собирают некоторые насекомые и птицы, например, колибри.'}],\n",
       " 'en_en_keywords_or_phrases': [{'keyword_or_phrase': 'District 13',\n",
       "   'explanation': \"A place in the story 'The Hunger Games' series where people live and work, known for being less natural and more industrial.\"},\n",
       "  {'keyword_or_phrase': 'replica of a meadow',\n",
       "   'explanation': 'An artificial version of a meadow created to look like a real one with trees and plants.'},\n",
       "  {'keyword_or_phrase': 'hummingbirds',\n",
       "   'explanation': 'Small, colorful birds known for their ability to hover in mid-air and for their fast-flapping wings.'},\n",
       "  {'keyword_or_phrase': 'Beetee',\n",
       "   'explanation': \"A character from 'The Hunger Games' series, known to be very smart and good with technology.\"},\n",
       "  {'keyword_or_phrase': 'wheelchair',\n",
       "   'explanation': 'A chair with wheels used by people who cannot walk.'},\n",
       "  {'keyword_or_phrase': 'nectar',\n",
       "   'explanation': 'A sweet liquid produced by flowers to attract pollinators like bees and hummingbirds.'},\n",
       "  {'keyword_or_phrase': 'orange tree',\n",
       "   'explanation': \"A fruit tree that produces oranges. It's known for its fragrant blossoms.\"}],\n",
       " 'en_queries': [\"What elements of nature were present in the artificial meadow created in District 13 in the 'Mockingjay' universe?\",\n",
       "  \"In the 'Mockingjay' novel, who is observed sitting in a wheelchair in the middle of the recreated meadow in District 13, and what are they watching?\",\n",
       "  'Hey fellow tributes! 🏹 Did you notice Beetee in a wheelchair in that peaceful meadow in District 13? What do you think caused him to be in that condition? #Mockingjay',\n",
       "  \"What's up, book lovers? 📚 Just read about the stunning meadow in District 13 full of blooms and hummingbirds. Isn't it ironic to find such beauty in a place like District 13 known for its austerity? Thoughts? #HungerGames\",\n",
       "  \"Gamers and sci-fi fans, have you pictured the scene where Beetee is observing a hummingbird in a blooming meadow within District 13? Could this symbolize hope or a pause from their usual grim setting? Let's chat! 🕹️ #GamingMeetsLiterature\"]}"
      ]
     },
     "execution_count": 5,
     "metadata": {},
     "output_type": "execute_result"
    }
   ],
   "source": [
    "js_docs[0]"
   ]
  },
  {
   "cell_type": "code",
   "execution_count": 6,
   "metadata": {},
   "outputs": [],
   "source": [
    "async def pipeline(\n",
    "    js_docs: list[dict],\n",
    "    pr_runner,\n",
    "    openai_model_name: str,\n",
    "    batch_size: int = 16,\n",
    "    coros_size: int = 2,\n",
    "    save_snapshot_every: int = 5,\n",
    "    snapshot_prefix: str = None,\n",
    "    snapshot_where: str = None,\n",
    "    timeout: int = 512,\n",
    "    must_include_keys: list[str] | None = None,\n",
    "    validate_json_response: bool = False,\n",
    "):\n",
    "    \"\"\"\n",
    "    We process `js_docs` by chunks where each chunk is of size `batch_size`.\n",
    "    Each chunk is processed asynchronously via parallel `coros_size` coroutines.\n",
    "\n",
    "    :param js_docs: documents to process\n",
    "    :param pr_runner: One of the instance `IPromptRunner` to create specific prompt\n",
    "    \"\"\"\n",
    "    pipes = []\n",
    "\n",
    "    for i, batch in tqdm(enumerate(chunked(js_docs, n=batch_size))):\n",
    "        _batch = batch\n",
    "        cur_result = await asio.gather(\n",
    "            *_limit_concurrency(\n",
    "                [\n",
    "                    openai_chat(\n",
    "                        pr_runner.prompt(**d),\n",
    "                        timeout=timeout,\n",
    "                        model=openai_model_name,\n",
    "                        props=wrapper_for_props(d, must_include_keys=must_include_keys),\n",
    "                    )\n",
    "                    for d in _batch\n",
    "                ],\n",
    "                concurrency=coros_size,\n",
    "            )\n",
    "        )\n",
    "        if not validate_json_response:\n",
    "            pipes.extend(cur_result)\n",
    "        else:\n",
    "            # NOTE: Order of execution is preserved.\n",
    "            js_answer_docs = [\n",
    "                pr_runner.finalize(\n",
    "                    raw_response=js_res[\"response\"], **wrapper_for_props(js_doc, must_include_keys=must_include_keys)\n",
    "                )\n",
    "                for js_doc, js_res in zip(batch, cur_result, strict=True)\n",
    "            ]\n",
    "            pipes.extend(js_answer_docs)\n",
    "\n",
    "        if (i + 1) % save_snapshot_every == 0:\n",
    "            io_snapshot(pipes, where=snapshot_where, snapshot_number=str(i + 1), snapshot_prefix=snapshot_prefix)\n",
    "    return pipes"
   ]
  },
  {
   "cell_type": "code",
   "execution_count": 7,
   "metadata": {},
   "outputs": [],
   "source": [
    "system_prompt = f\"\"\"\n",
    "Ты - эксперт, специализирующийся на объяснении трудной из параграфа так, чтобы поняли даже дети.\n",
    "Твоя задача выделить ключевые слова (вместе с объяснением их контекста) из предоставленного тебе параграфа. Параграф может быть из разных областей, таких как: наука, история, биология, религия, общие факты, книги, игры или фильмы.\n",
    "\"\"\"\n",
    "\n",
    "openai_model_name = \"gpt-4-turbo\"\n",
    "batch_size = 4\n",
    "coros_size = 2\n",
    "snapshot_every_iters = 1\n",
    "must_include_keys = [\"chunk_id\", \"content\"]\n",
    "snapshot_prefix = \"KWARGS\"\n",
    "snapshot_where = \"outputs\"\n",
    "source_language=\"русском\"\n",
    "timeout  = 512"
   ]
  },
  {
   "cell_type": "code",
   "execution_count": 8,
   "metadata": {},
   "outputs": [],
   "source": [
    "pr_runner = await IGNIRunner.KEYWORDER(\n",
    "    system_prompt=system_prompt,\n",
    "    source_language=source_language\n",
    ")"
   ]
  },
  {
   "cell_type": "code",
   "execution_count": 9,
   "metadata": {},
   "outputs": [
    {
     "data": {
      "text/plain": [
       "<justatom.running.prompt.KEYPromptRunner at 0x36bbebdd0>"
      ]
     },
     "execution_count": 9,
     "metadata": {},
     "output_type": "execute_result"
    }
   ],
   "source": [
    "pr_runner"
   ]
  },
  {
   "cell_type": "code",
   "execution_count": 10,
   "metadata": {},
   "outputs": [
    {
     "data": {
      "text/plain": [
       "[{'role': 'system',\n",
       "  'content': 'Ты - эксперт, специализирующийся на объяснении трудной из параграфа так, чтобы поняли даже дети.\\nТвоя задача выделить ключевые слова (вместе с объяснением их контекста) из предоставленного тебе параграфа. Параграф может быть из разных областей, таких как: наука, история, биология, религия, общие факты, книги, игры или фильмы.'},\n",
       " {'role': 'user',\n",
       "  'content': 'Обрати внимание, что ключевые слова или фразы должны быть подстрокой параграфа и состоять из НЕ более двух, максимум трех слов.\\n\\n        Каждая фраза или ключевое слово должны иметь краткое, но емкое объяснение на русском языке в зависимости от контекста, в котором они употреблены.\\xa0\\n\\n        Параграф из вселенной \"Книги - игры - фильмы\":\\nмои поздравления\\n\\n\\n        Выдай ответ в виде  json в формате: {\"keywords_or_phrases\": [{\"keyword_or_phrase\": <Выделенная тобою фраза>, \"explanation\": <Объяснение на русском языке для ребенка в соответствии с контекстом, в котором употреблена ключевая фраза или слово>}]}.\\n\\n        Выдай только json.'}]"
      ]
     },
     "execution_count": 10,
     "metadata": {},
     "output_type": "execute_result"
    }
   ],
   "source": [
    "pr_runner.prompt(content=\"мои поздравления\", title=\"Книги - игры - фильмы\")"
   ]
  },
  {
   "cell_type": "code",
   "execution_count": 11,
   "metadata": {},
   "outputs": [
    {
     "name": "stderr",
     "output_type": "stream",
     "text": [
      "0it [00:00, ?it/s]"
     ]
    },
    {
     "name": "stderr",
     "output_type": "stream",
     "text": [
      "3it [01:16, 25.39s/it]\n"
     ]
    }
   ],
   "source": [
    "js_response = await pipeline(\n",
    "    js_docs[:10],\n",
    "    pr_runner=pr_runner,\n",
    "    openai_model_name=openai_model_name,\n",
    "    batch_size=batch_size,\n",
    "    coros_size=coros_size,\n",
    "    timeout=timeout,\n",
    "    save_snapshot_every=snapshot_every_iters,\n",
    "    snapshot_prefix=snapshot_prefix,\n",
    "    snapshot_where=snapshot_where,\n",
    "    must_include_keys=must_include_keys\n",
    ")"
   ]
  },
  {
   "cell_type": "code",
   "execution_count": 12,
   "metadata": {},
   "outputs": [],
   "source": [
    "js_response_docs_parsed = [\n",
    "    {\n",
    "        **json_repair.loads(js_doc['response']),\n",
    "        **wrapper_for_props(js_doc, must_include_keys=[\"chunk_id\", \"content\"])\n",
    "    } for js_doc in js_response\n",
    "]"
   ]
  },
  {
   "cell_type": "code",
   "execution_count": 13,
   "metadata": {},
   "outputs": [
    {
     "data": {
      "text/plain": [
       "{'keywords_or_phrases': [{'keyword_or_phrase': '13 Дистрикт',\n",
       "   'explanation': 'Это одно из разделений территории в вымышленном мире, где происходят действия книги.'},\n",
       "  {'keyword_or_phrase': 'копия луга',\n",
       "   'explanation': 'Искусственно созданное место, которое выглядит как настоящий луг с деревьями и цветами.'},\n",
       "  {'keyword_or_phrase': 'колибри',\n",
       "   'explanation': 'Маленькая птица, известная своей способностью парить в воздухе, пьящая нектар из цветов.'},\n",
       "  {'keyword_or_phrase': 'инвалидное кресло',\n",
       "   'explanation': 'Специальное кресло на колёсах, которое используется людьми, у которых есть проблемы с передвижением.'},\n",
       "  {'keyword_or_phrase': 'нектар',\n",
       "   'explanation': 'Сладкая жидкость, которую производят цветы и пьют птицы, как колибри, для питания.'},\n",
       "  {'keyword_or_phrase': 'апельсинового дерева',\n",
       "   'explanation': 'Дерево, на котором растут апельсины, цветок этого дерева также производит нектар.'}],\n",
       " 'chunk_id': '50275823-ca7a-50f2-ae1f-3f945d24ab47',\n",
       " 'content': 'Внутри располагалась первая красивая вещь, которую я встречала в 13 Дистрикте: копия луга, заполненного настоящими деревьями и цветущими растениями, и в изобилии порхающими колибри. Битти сидел неподвижно в инвалидном кресле посреди луга, наблюдая за нежно-зелёной птичкой, зависшей в воздухе и пьющей нектар из большого цветка апельсинового дерева.'}"
      ]
     },
     "execution_count": 13,
     "metadata": {},
     "output_type": "execute_result"
    }
   ],
   "source": [
    "js_response_docs_parsed[0]"
   ]
  },
  {
   "cell_type": "code",
   "execution_count": 14,
   "metadata": {},
   "outputs": [],
   "source": [
    "pl_response_docs = pl.from_dicts(js_response_docs_parsed)"
   ]
  },
  {
   "cell_type": "code",
   "execution_count": 15,
   "metadata": {},
   "outputs": [
    {
     "name": "stderr",
     "output_type": "stream",
     "text": [
      "\u001b[32m2025-01-03 19:27:46.275\u001b[0m | \u001b[1mINFO    \u001b[0m | \u001b[36m__main__\u001b[0m:\u001b[36m<module>\u001b[0m:\u001b[36m1\u001b[0m - \u001b[1mThere are N=[10] docs with `keywords_or_phrases`\u001b[0m\n"
     ]
    },
    {
     "data": {
      "text/html": [
       "<div><style>\n",
       ".dataframe > thead > tr,\n",
       ".dataframe > tbody > tr {\n",
       "  text-align: right;\n",
       "  white-space: pre-wrap;\n",
       "}\n",
       "</style>\n",
       "<small>shape: (5, 3)</small><table border=\"1\" class=\"dataframe\"><thead><tr><th>keywords_or_phrases</th><th>chunk_id</th><th>content</th></tr><tr><td>list[struct[2]]</td><td>str</td><td>str</td></tr></thead><tbody><tr><td>[{&quot;13 Дистрикт&quot;,&quot;Это одно из разделений территории в вымышленном мире, где происходят действия книги.&quot;}, {&quot;копия луга&quot;,&quot;Искусственно созданное место, которое выглядит как настоящий луг с деревьями и цветами.&quot;}, … {&quot;апельсинового дерева&quot;,&quot;Дерево, на котором растут апельсины, цветок этого дерева также производит нектар.&quot;}]</td><td>&quot;50275823-ca7a-…</td><td>&quot;Внутри распола…</td></tr><tr><td>[{&quot;просто псих&quot;,&quot;Это выражение говорит о том, что герой считается необычным или странным человеком другими людьми.&quot;}, {&quot;их принципы&quot;,&quot;Здесь говорится о правилах или моральных убеждениях, которым люди следуют.&quot;}, … {&quot;Я не чудовище&quot;,&quot;Герой говорит, что он не злой и страшный, как его могут воспринимать другие.&quot;}]</td><td>&quot;0835dee2-f0be-…</td><td>&quot;Для них ты про…</td></tr><tr><td>[{&quot;желчный, раздражительный, злой&quot;,&quot;Раскольников проснулся в плохом настроении, он был очень злой и раздражён.&quot;}, {&quot;крошечная клетушка&quot;,&quot;Очень маленькая, тесная комната, напоминающая клетку для животного.&quot;}, … {&quot;мономанов&quot;,&quot;Люди, настолько сосредоточенные или одержимые чем-то одним, что это занимает все их мысли и восприятие.&quot;}]</td><td>&quot;8b2538de-db7b-…</td><td>&quot;Он проснулся н…</td></tr><tr><td>[{&quot;Шай-Хулуд&quot;,&quot;Шай-Хулуд - это величайшее создание, огромный песчаный червь в мире &#x27;Дюна&#x27;, который считается священным.&quot;}, {&quot;следуй за мной&quot;,&quot;Это приглашение идти за кем-то, чтобы показать более легкий или безопасный путь.&quot;}, … {&quot;волна радости&quot;,&quot;Выражение используется для описания сильного и внезапного чувства счастья.&quot;}]</td><td>&quot;2c967240-5ed5-…</td><td>&quot;И вот она пере…</td></tr><tr><td>[{&quot;Судный день&quot;,&quot;Время крупной катастрофы, когда люди отправляются в места убежища.&quot;}, {&quot;машинистам&quot;,&quot;Водители поездов в метро.&quot;}, … {&quot;жителями метро&quot;,&quot;Люди, которые живут в подземке после катастрофы.&quot;}]</td><td>&quot;fafce8be-6d5e-…</td><td>&quot;Инструкция о т…</td></tr></tbody></table></div>"
      ],
      "text/plain": [
       "shape: (5, 3)\n",
       "┌────────────────────────────────┬────────────────────────────────┬────────────────────────────────┐\n",
       "│ keywords_or_phrases            ┆ chunk_id                       ┆ content                        │\n",
       "│ ---                            ┆ ---                            ┆ ---                            │\n",
       "│ list[struct[2]]                ┆ str                            ┆ str                            │\n",
       "╞════════════════════════════════╪════════════════════════════════╪════════════════════════════════╡\n",
       "│ [{\"13 Дистрикт\",\"Это одно из   ┆ 50275823-ca7a-50f2-ae1f-3f945d ┆ Внутри располагалась первая    │\n",
       "│ раз…                           ┆ 24…                            ┆ крас…                          │\n",
       "│ [{\"просто псих\",\"Это выражение ┆ 0835dee2-f0be-5dcd-a8c0-56da60 ┆ Для них ты просто псих, как я. │\n",
       "│ г…                             ┆ 54…                            ┆ С…                             │\n",
       "│ [{\"желчный, раздражительный,   ┆ 8b2538de-db7b-561e-910a-be0cc4 ┆ Он проснулся на другой день    │\n",
       "│ зло…                           ┆ 7f…                            ┆ уже …                          │\n",
       "│ [{\"Шай-Хулуд\",\"Шай-Хулуд - это ┆ 2c967240-5ed5-50c5-80b5-75edd6 ┆ И вот она перед ним, но такой  │\n",
       "│ в…                             ┆ ca…                            ┆ вс…                            │\n",
       "│ [{\"Судный день\",\"Время крупной ┆ fafce8be-6d5e-5e92-93bb-4d910e ┆ Инструкция о том, что в Судный │\n",
       "│ к…                             ┆ 81…                            ┆ д…                             │\n",
       "└────────────────────────────────┴────────────────────────────────┴────────────────────────────────┘"
      ]
     },
     "execution_count": 15,
     "metadata": {},
     "output_type": "execute_result"
    }
   ],
   "source": [
    "logger.info(f\"There are N=[{pl_response_docs.shape[0]}] docs with `keywords_or_phrases`\")\n",
    "pl_response_docs.head()"
   ]
  },
  {
   "cell_type": "code",
   "execution_count": null,
   "metadata": {},
   "outputs": [],
   "source": []
  }
 ],
 "metadata": {
  "kernelspec": {
   "display_name": "justatom",
   "language": "python",
   "name": "python3"
  },
  "language_info": {
   "codemirror_mode": {
    "name": "ipython",
    "version": 3
   },
   "file_extension": ".py",
   "mimetype": "text/x-python",
   "name": "python",
   "nbconvert_exporter": "python",
   "pygments_lexer": "ipython3",
   "version": "3.11.9"
  }
 },
 "nbformat": 4,
 "nbformat_minor": 2
}
