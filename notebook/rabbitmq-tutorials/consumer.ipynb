{
 "cells": [
  {
   "cell_type": "code",
   "execution_count": 2,
   "metadata": {},
   "outputs": [],
   "source": [
    "from justatom.mq.clients.rabbitmq import RabbitMQClient\n",
    "from justatom.mq.settings.rabbitmq import SettingsRabbitMQ"
   ]
  },
  {
   "cell_type": "code",
   "execution_count": 3,
   "metadata": {},
   "outputs": [],
   "source": [
    "settings = SettingsRabbitMQ()"
   ]
  },
  {
   "cell_type": "code",
   "execution_count": 4,
   "metadata": {},
   "outputs": [],
   "source": [
    "CLIENT_NAME = \"consumer\""
   ]
  },
  {
   "cell_type": "code",
   "execution_count": 5,
   "metadata": {},
   "outputs": [],
   "source": [
    "client = RabbitMQClient(settings, client_name=CLIENT_NAME)"
   ]
  },
  {
   "cell_type": "code",
   "execution_count": 6,
   "metadata": {},
   "outputs": [],
   "source": [
    "consumer = client.get_consumer_generator(CLIENT_NAME)"
   ]
  },
  {
   "cell_type": "code",
   "execution_count": 6,
   "metadata": {},
   "outputs": [],
   "source": [
    "# blocking code main loop\n",
    "async for message, metadata in consumer:\n",
    "    print(message)\n",
    "    print(metadata)\n",
    "    print(message.body)"
   ]
  },
  {
   "cell_type": "code",
   "execution_count": 8,
   "metadata": {},
   "outputs": [],
   "source": [
    "# The code below is a callback run in a separate thread / loop\n",
    "\n",
    "def callback(message, metadata):\n",
    "    print(message)\n",
    "    print(metadata)"
   ]
  },
  {
   "cell_type": "code",
   "execution_count": 6,
   "metadata": {},
   "outputs": [
    {
     "name": "stdout",
     "output_type": "stream",
     "text": [
      "hello world\n",
      "{}\n",
      "hello world\n",
      "{}\n",
      "hello world\n",
      "{}\n",
      "hello world\n",
      "{}\n",
      "hello world\n",
      "{'metadata': [1, 2, 3]}\n"
     ]
    }
   ],
   "source": [
    "await client.consume_with_callback(callback, CLIENT_NAME)"
   ]
  },
  {
   "cell_type": "code",
   "execution_count": null,
   "metadata": {},
   "outputs": [],
   "source": []
  }
 ],
 "metadata": {
  "language_info": {
   "name": "python"
  }
 },
 "nbformat": 4,
 "nbformat_minor": 2
}
