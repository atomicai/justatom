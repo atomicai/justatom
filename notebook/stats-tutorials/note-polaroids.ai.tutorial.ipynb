{
 "cells": [
  {
   "cell_type": "code",
   "execution_count": 26,
   "metadata": {},
   "outputs": [],
   "source": [
    "from pathlib import Path\n",
    "import os\n",
    "from loguru import logger\n",
    "import simplejson as json\n",
    "import polars as pl\n",
    "import json_repair\n",
    "from justatom.tooling.stl import reuuid\n",
    "from justatom.storing.dataset import API as DatasetApi"
   ]
  },
  {
   "cell_type": "code",
   "execution_count": 27,
   "metadata": {},
   "outputs": [],
   "source": [
    "def source_from_dataset(dataset_name_or_path, **props):\n",
    "    from justatom.storing.dataset import API as DatasetApi\n",
    "    import polars as pl\n",
    "\n",
    "    maybe_df_or_iter = DatasetApi.named(dataset_name_or_path).iterator(**props)\n",
    "    if isinstance(maybe_df_or_iter, pl.DataFrame):\n",
    "        pl_data = maybe_df_or_iter\n",
    "    else:\n",
    "        dataset = list(maybe_df_or_iter)\n",
    "        pl_data = pl.from_dicts(dataset)\n",
    "    return pl_data"
   ]
  },
  {
   "cell_type": "code",
   "execution_count": 29,
   "metadata": {},
   "outputs": [],
   "source": [
    "pl_docs = source_from_dataset(Path(os.getcwd()) / \".data\" / \"polaroids.ai.data.all.json\")"
   ]
  },
  {
   "cell_type": "code",
   "execution_count": 38,
   "metadata": {},
   "outputs": [
    {
     "name": "stderr",
     "output_type": "stream",
     "text": [
      "\u001b[32m2025-02-18 05:16:03.443\u001b[0m | \u001b[1mINFO    \u001b[0m | \u001b[36m__main__\u001b[0m:\u001b[36m<module>\u001b[0m:\u001b[36m1\u001b[0m - \u001b[1mThere are |ALL|=[4992] total docs\u001b[0m\n"
     ]
    }
   ],
   "source": [
    "logger.info(f\"There are |ALL|=[{pl_docs.shape[0]}] total docs\")"
   ]
  },
  {
   "cell_type": "code",
   "execution_count": 39,
   "metadata": {},
   "outputs": [
    {
     "data": {
      "text/plain": [
       "['content',\n",
       " 'title',\n",
       " 'author',\n",
       " 'type',\n",
       " 'has_image',\n",
       " 'img_path',\n",
       " 'speaker',\n",
       " 'queries',\n",
       " 'keywords_or_phrases',\n",
       " 'chunk_id',\n",
       " 'monitor']"
      ]
     },
     "execution_count": 39,
     "metadata": {},
     "output_type": "execute_result"
    }
   ],
   "source": [
    "pl_docs.columns"
   ]
  },
  {
   "cell_type": "markdown",
   "metadata": {},
   "source": [
    "### Statistics\n",
    "Next, the system calculates statistics such as the total number of words in the queries (`LQ`) and in the paragraphs (`LD`), respectively.\n",
    "\n",
    "In addition, it calculates the intersection of common words between the query and the relevant document (`LQD`), the paragraph’s keywords and the paragraph itself (`LKD`), as well as the intersection of the paragraph’s keywords with the explanation and the paragraph (`LKED`)."
   ]
  },
  {
   "cell_type": "code",
   "execution_count": 40,
   "metadata": {},
   "outputs": [],
   "source": [
    "def coverage_for_doc(x: str, doc: str):\n",
    "        return x[0] + \" \" + doc\n",
    "        x = x[0]\n",
    "        import re\n",
    "        symbols = [\"\\\\'\", \"'\", '#', '!', '@', '$', '%', '^', '&', '*', '(', ')', '-', '=', '+', '[', ']', '{', '}', '|', '\\\\', ':', ';', '\"', \"'\", '<', '>', ',', '.', '?', '/']\n",
    "        escape = ''.join(re.escape(sym) for sym in symbols)\n",
    "        pattern = f\"[^A-Za-zа-яА-Я0-9{escape}]+\"\n",
    "        xs = x.strip().lower()\n",
    "        xs = re.sub(pattern, \" \", xs)\n",
    "        ys = doc.strip().lower()\n",
    "        ys = re.sub(pattern, \" \", ys)\n",
    "        \n",
    "        return len(set(xs.split()) & set(ys.split()))"
   ]
  },
  {
   "cell_type": "code",
   "execution_count": 41,
   "metadata": {},
   "outputs": [],
   "source": [
    "def pl_coverage_for_doc(d):\n",
    "    queries = d['queries']\n",
    "    doc = d['content']\n",
    "    kwargs = d['keywords_or_phrases']\n",
    "    import re\n",
    "    symbols = [\"\\\\'\", \"'\", '#', '!', '@', '$', '%', '^', '&', '*', '(', ')', '-', '=', '+', '[', ']', '{', '}', '|', '\\\\', ':', ';', '\"', \"'\", '<', '>', ',', '.', '?', '/']\n",
    "    escape = ''.join(re.escape(sym) for sym in symbols)\n",
    "    pattern = f\"[^A-Za-zа-яА-Я0-9{escape}]+\"\n",
    "    LQ: float = 0\n",
    "    LD: float = 0\n",
    "    LQD: float = 0\n",
    "    LKD: float = 0\n",
    "    LKED: float = 0\n",
    "    doc = doc.strip().lower()\n",
    "    doc = re.sub(pattern, \" \", doc)\n",
    "    for q in queries:\n",
    "        if q is None:\n",
    "            continue\n",
    "        xs = q.strip().lower()\n",
    "        xs = re.sub(pattern, \" \", xs)\n",
    "        LQ += len(xs.split())\n",
    "        LQD += len(set(xs.split()) & set(doc.split())) / len(doc.split())\n",
    "    for kwarg in kwargs:\n",
    "        keyword_or_phrase = kwarg['keyword_or_phrase']\n",
    "        if keyword_or_phrase is None:\n",
    "            continue\n",
    "        ks = keyword_or_phrase.strip().lower()\n",
    "        ks = re.sub(pattern, \" \", ks)\n",
    "        LKD += len(set(ks.split()) & set(doc.split())) / len(doc.split())\n",
    "        if kwarg['explanation'] is None:\n",
    "            continue\n",
    "        kse = keyword_or_phrase + \"\\n\" + kwarg['explanation']\n",
    "        kse = kse.strip().lower()\n",
    "        kse = re.sub(pattern, \" \", kse)\n",
    "        LKED += len(set(kse.split()) & set(doc.split())) / len(doc.split())\n",
    "    LQ = LQ / len(queries)\n",
    "    LD = len(doc.split())\n",
    "    LQD = LQD / len(queries)\n",
    "    # TODO: Добавить ключевые слова\n",
    "    return {\n",
    "        \"LQ\": LQ,\n",
    "        \"LD\": LD,\n",
    "        \"LQD\": LQD,\n",
    "        \"LKD\": LKD,\n",
    "        \"LKED\": LKED\n",
    "    }"
   ]
  },
  {
   "cell_type": "code",
   "execution_count": 58,
   "metadata": {},
   "outputs": [],
   "source": [
    "pl_docs = pl_docs.with_columns([\n",
    "    pl.struct([\"queries\", \"content\", \"keywords_or_phrases\"]).map_elements(pl_coverage_for_doc).alias(\"monitor\")\n",
    "])"
   ]
  },
  {
   "cell_type": "code",
   "execution_count": 59,
   "metadata": {},
   "outputs": [
    {
     "data": {
      "text/html": [
       "<div><style>\n",
       ".dataframe > thead > tr,\n",
       ".dataframe > tbody > tr {\n",
       "  text-align: right;\n",
       "  white-space: pre-wrap;\n",
       "}\n",
       "</style>\n",
       "<small>shape: (5, 11)</small><table border=\"1\" class=\"dataframe\"><thead><tr><th>content</th><th>title</th><th>author</th><th>type</th><th>has_image</th><th>img_path</th><th>speaker</th><th>queries</th><th>keywords_or_phrases</th><th>chunk_id</th><th>monitor</th></tr><tr><td>str</td><td>str</td><td>str</td><td>str</td><td>bool</td><td>str</td><td>str</td><td>list[str]</td><td>list[struct[2]]</td><td>str</td><td>struct[5]</td></tr></thead><tbody><tr><td>&quot;Inside was the…</td><td>&quot;Сойка-пересмеш…</td><td>&quot;Сьюзен Коллинз…</td><td>&quot;book&quot;</td><td>false</td><td>null</td><td>null</td><td>[&quot;What elements of nature were present in the artificial meadow created in District 13 in the &#x27;Mockingjay&#x27; universe?&quot;, &quot;In the &#x27;Mockingjay&#x27; novel, who is observed sitting in a wheelchair in the middle of the recreated meadow in District 13, and what are they watching?&quot;, … &quot;Gamers and sci-fi fans, have you pictured the scene where Beetee is observing a hummingbird in a blooming meadow within District 13? Could this symbolize hope or a pause from their usual grim setting? Let&#x27;s chat! 🕹️ #GamingMeetsLiterature&quot;]</td><td>[{&quot;District 13&quot;,&quot;A place in the story &#x27;The Hunger Games&#x27; series where people live and work, known for being less natural and more industrial.&quot;}, {&quot;replica of a meadow&quot;,&quot;An artificial version of a meadow created to look like a real one with trees and plants.&quot;}, … {&quot;orange tree&quot;,&quot;A fruit tree that produces oranges. It&#x27;s known for its fragrant blossoms.&quot;}]</td><td>&quot;3973894b-1c86-…</td><td>{29.4,62,0.103226,0.145161,0.467742}</td></tr><tr><td>&quot;To them, you&#x27;r…</td><td>&quot;Темный рыцарь …</td><td>null</td><td>&quot;movie&quot;</td><td>true</td><td>&quot;./img/batman/j…</td><td>&quot;Джокер&quot;</td><td>[&quot;Yo gamers! In the Dark Knight universe, why does the Joker believe that &#x27;civilized people will eat each other&#x27; when things get rough? What&#x27;s up with that dark view on humanity?&quot;, &quot;Hey fellow gamers, in the context of The Dark Knight (2008), how does the Joker&#x27;s perspective on Gotham&#x27;s &#x27;principles&#x27; and &#x27;code&#x27; challenge Batman&#x27;s ideology? Doesn&#x27;t it make you think about the rules in our own game worlds?&quot;]</td><td>[{&quot;just a freak&quot;,&quot;Someone who is very different or unusual in a way that is not accepted by most people.&quot;}, {&quot;needed&quot;,&quot;Being necessary or required for a particular role or moment.&quot;}, … {&quot;see right through them&quot;,&quot;To understand or detect the true nature or motives of someone easily.&quot;}]</td><td>&quot;f88ec39e-bc84-…</td><td>{34.0,73,0.075342,0.219178,0.383562}</td></tr><tr><td>&quot;He woke up the…</td><td>&quot;Преступление и…</td><td>&quot;Достоевский Ф.…</td><td>&quot;book&quot;</td><td>false</td><td>&quot;&quot;</td><td>null</td><td>[&quot;In the novel &#x27;Crime and Punishment&#x27;, how does Raskolnikov feel about the squalid conditions of his living space?&quot;, &quot;Does Raskolnikov show any sign of discomfort or distress due to his overcrowded and dilapidated living conditions in &#x27;Crime and Punishment&#x27;?&quot;, … &quot;Yo, how does the minimal interaction with his maid reflect Raskolnikov&#x27;s overall social withdrawal in &#x27;Crime and Punishment&#x27;? Could this isolation be a strategic game move in his psychological survival game?&quot;]</td><td>[{&quot;restless sleep&quot;,&quot;Sleep that is not calm or peaceful, causing one to wake up still feeling tired.&quot;}, {&quot;gall bitter&quot;,&quot;Feeling very bitter or upset inside, often leading to irritation or anger.&quot;}, … {&quot;monomaniacs&quot;,&quot;People who are obsessively focused on a single thing, often ignoring everything else.&quot;}]</td><td>&quot;e2f09185-ce5c-…</td><td>{24.25,291,0.024914,0.024055,0.109966}</td></tr><tr><td>&quot;And there she …</td><td>&quot;Дюна&quot;</td><td>&quot;Герберт Ф.&quot;</td><td>&quot;book&quot;</td><td>false</td><td>&quot;&quot;</td><td>null</td><td>[&quot;What emotions overwhelmed Paul after encountering the girl in the &#x27;Dune&#x27; universe?&quot;, &quot;Describe how Paul physically followed the girl after their meeting in the &#x27;Dune&#x27; universe.&quot;, … &quot;Hey fellow gamers! Did you ever experience a wave of joy in your gaming victory that was as intense as Paul&#x27;s when meeting the girl in Dune? Share your epic win!&quot;]</td><td>[{&quot;furious Shai-Hulud&quot;,&quot;Shai-Hulud is a giant desert worm in the story. Described as furious, it means very angry or aggressive.&quot;}, {&quot;easier path&quot;,&quot;An easier route or way compared to what was previously used.&quot;}, … {&quot;wave of joy&quot;,&quot;A strong, overwhelming feeling of happiness.&quot;}]</td><td>&quot;abaf6622-2a79-…</td><td>{22.5,95,0.047368,0.105263,0.252632}</td></tr><tr><td>&quot;The instructio…</td><td>&quot;Метро 2034&quot;</td><td>&quot;Дмитрий Глухов…</td><td>&quot;book&quot;</td><td>false</td><td>null</td><td>null</td><td>[&quot;How long were the metro inhabitants initially told they would need to stay in the refuge according to the book &#x27;Metro 2034&#x27;?&quot;, &quot;What happened to the metro trains after Judgment Day in the universe of &#x27;Metro 2034&#x27;?&quot;, … &quot;What&#x27;s up folks? How did people from the Metro 2034 universe adapt to their new life underground, using train parts for survival?&quot;]</td><td>[{&quot;Judgment Day&quot;,&quot;In the context, it refers to a catastrophic event, likely a disaster or apocalypse, that drastically changes life as it was known.&quot;}, {&quot;frozen at the platform&quot;,&quot;This means the trains were stopped and left idle at the stations where they were located when the disaster happened.&quot;}, … {&quot;metro inhabitants&quot;,&quot;Refers to the people living inside the metro system, using it as a shelter.&quot;}]</td><td>&quot;b446c78f-993f-…</td><td>{20.5,59,0.144068,0.20339,0.508475}</td></tr></tbody></table></div>"
      ],
      "text/plain": [
       "shape: (5, 11)\n",
       "┌────────────┬────────────┬────────────┬───────┬───┬───────────┬───────────┬───────────┬───────────┐\n",
       "│ content    ┆ title      ┆ author     ┆ type  ┆ … ┆ queries   ┆ keywords_ ┆ chunk_id  ┆ monitor   │\n",
       "│ ---        ┆ ---        ┆ ---        ┆ ---   ┆   ┆ ---       ┆ or_phrase ┆ ---       ┆ ---       │\n",
       "│ str        ┆ str        ┆ str        ┆ str   ┆   ┆ list[str] ┆ s         ┆ str       ┆ struct[5] │\n",
       "│            ┆            ┆            ┆       ┆   ┆           ┆ ---       ┆           ┆           │\n",
       "│            ┆            ┆            ┆       ┆   ┆           ┆ list[stru ┆           ┆           │\n",
       "│            ┆            ┆            ┆       ┆   ┆           ┆ ct[2]]    ┆           ┆           │\n",
       "╞════════════╪════════════╪════════════╪═══════╪═══╪═══════════╪═══════════╪═══════════╪═══════════╡\n",
       "│ Inside was ┆ Сойка-пере ┆ Сьюзен     ┆ book  ┆ … ┆ [\"What    ┆ [{\"Distri ┆ 3973894b- ┆ {29.4,62, │\n",
       "│ the first  ┆ смешница   ┆ Коллинз    ┆       ┆   ┆ elements  ┆ ct 13\",\"A ┆ 1c86-5715 ┆ 0.103226, │\n",
       "│ beautiful  ┆            ┆            ┆       ┆   ┆ of nature ┆ place in  ┆ -8c93-639 ┆ 0.145161, │\n",
       "│ t…         ┆            ┆            ┆       ┆   ┆ were p…   ┆ the …     ┆ 53100…    ┆ 0.467…    │\n",
       "│ To them,   ┆ Темный     ┆ null       ┆ movie ┆ … ┆ [\"Yo      ┆ [{\"just a ┆ f88ec39e- ┆ {34.0,73, │\n",
       "│ you're     ┆ рыцарь     ┆            ┆       ┆   ┆ gamers!   ┆ freak\",\"S ┆ bc84-57d3 ┆ 0.075342, │\n",
       "│ just a     ┆ (2008)     ┆            ┆       ┆   ┆ In the    ┆ omeone    ┆ -9d5f-b56 ┆ 0.219178, │\n",
       "│ freak, li… ┆            ┆            ┆       ┆   ┆ Dark      ┆ who is…   ┆ c6ee2…    ┆ 0.383…    │\n",
       "│            ┆            ┆            ┆       ┆   ┆ Knight …  ┆           ┆           ┆           │\n",
       "│ He woke up ┆ Преступлен ┆ Достоевски ┆ book  ┆ … ┆ [\"In the  ┆ [{\"restle ┆ e2f09185- ┆ {24.25,29 │\n",
       "│ the next   ┆ ие и       ┆ й Ф.М.     ┆       ┆   ┆ novel     ┆ ss sleep\" ┆ ce5c-583b ┆ 1,0.02491 │\n",
       "│ day late   ┆ наказание  ┆            ┆       ┆   ┆ 'Crime    ┆ ,\"Sleep   ┆ -bddc-16e ┆ 4,0.02405 │\n",
       "│ aft…       ┆            ┆            ┆       ┆   ┆ and       ┆ that i…   ┆ 847bc…    ┆ 5,0.1…    │\n",
       "│            ┆            ┆            ┆       ┆   ┆ Punish…   ┆           ┆           ┆           │\n",
       "│ And there  ┆ Дюна       ┆ Герберт Ф. ┆ book  ┆ … ┆ [\"What    ┆ [{\"furiou ┆ abaf6622- ┆ {22.5,95, │\n",
       "│ she was    ┆            ┆            ┆       ┆   ┆ emotions  ┆ s Shai-Hu ┆ 2a79-54fb ┆ 0.047368, │\n",
       "│ before     ┆            ┆            ┆       ┆   ┆ overwhelm ┆ lud\",\"Sha ┆ -aa28-f7e ┆ 0.105263, │\n",
       "│ him, bu…   ┆            ┆            ┆       ┆   ┆ ed Paul…  ┆ i-Hul…    ┆ 1323a…    ┆ 0.252…    │\n",
       "│ The instru ┆ Метро 2034 ┆ Дмитрий    ┆ book  ┆ … ┆ [\"How     ┆ [{\"Judgme ┆ b446c78f- ┆ {20.5,59, │\n",
       "│ ctions for ┆            ┆ Глуховский ┆       ┆   ┆ long were ┆ nt        ┆ 993f-54e4 ┆ 0.144068, │\n",
       "│ what train ┆            ┆            ┆       ┆   ┆ the metro ┆ Day\",\"In  ┆ -98ce-cde ┆ 0.20339,0 │\n",
       "│ …          ┆            ┆            ┆       ┆   ┆ inhabi…   ┆ the       ┆ 10ed7…    ┆ .5084…    │\n",
       "│            ┆            ┆            ┆       ┆   ┆           ┆ context…  ┆           ┆           │\n",
       "└────────────┴────────────┴────────────┴───────┴───┴───────────┴───────────┴───────────┴───────────┘"
      ]
     },
     "execution_count": 59,
     "metadata": {},
     "output_type": "execute_result"
    }
   ],
   "source": [
    "pl_docs.head()"
   ]
  },
  {
   "cell_type": "code",
   "execution_count": 60,
   "metadata": {},
   "outputs": [],
   "source": [
    "js_docs_metrics = pl_docs.select(\"monitor\").to_dicts()"
   ]
  },
  {
   "cell_type": "code",
   "execution_count": 61,
   "metadata": {},
   "outputs": [],
   "source": [
    "def compute_statistcs(pl_df: pl.DataFrame):\n",
    "    pl_df = pl_df.with_columns([\n",
    "        pl.col(\"monitor\").struct.field(\"LQ\").mean().alias(\"LQMean\"),\n",
    "        pl.col(\"monitor\").struct.field(\"LQ\").std().alias(\"LQStd\"),\n",
    "\n",
    "        pl.col(\"monitor\").struct.field(\"LD\").mean().alias(\"LDMean\"),\n",
    "        pl.col(\"monitor\").struct.field(\"LD\").std().alias(\"LDStd\"),\n",
    "\n",
    "        pl.col(\"monitor\").struct.field(\"LQD\").mean().alias(\"LQDMean\"),\n",
    "        pl.col(\"monitor\").struct.field(\"LQD\").std().alias(\"LQDStd\"),\n",
    "\n",
    "        pl.col(\"monitor\").struct.field(\"LKD\").mean().alias(\"LKDMean\"),\n",
    "        pl.col(\"monitor\").struct.field(\"LKD\").std().alias(\"LKDStd\"),\n",
    "\n",
    "        pl.col(\"monitor\").struct.field(\"LKED\").mean().alias(\"LKEDMean\"),\n",
    "        pl.col(\"monitor\").struct.field(\"LKED\").std().alias(\"LKEDStd\"),\n",
    "    ])\n",
    "    \n",
    "    columns = [\n",
    "        \"LQMean\",\n",
    "        \"LQStd\",\n",
    "        \"LDMean\",\n",
    "        \"LDStd\",\n",
    "        \"LQDMean\",\n",
    "        \"LQDStd\",\n",
    "        \"LKDMean\",\n",
    "        \"LKDStd\",\n",
    "        \"LKEDMean\",\n",
    "        \"LKEDStd\"\n",
    "    ]\n",
    "    js_metrics = {}\n",
    "    for col in columns:\n",
    "        js_metrics[col] = pl_df.select(col).unique().to_series().to_list()[0]\n",
    "        # pl_df = pl_df.select(columns).with_columns([\n",
    "        #     pl.col(col).unique().alias(col)\n",
    "        # ])\n",
    "    return js_metrics"
   ]
  },
  {
   "cell_type": "code",
   "execution_count": 46,
   "metadata": {},
   "outputs": [
    {
     "data": {
      "text/plain": [
       "{'LQMean': 22.48569043803419,\n",
       " 'LQStd': 9.563272517598573,\n",
       " 'LDMean': 144.125,\n",
       " 'LDStd': 78.51795160154565,\n",
       " 'LQDMean': 0.04775010984639291,\n",
       " 'LQDStd': 0.03916782202521952,\n",
       " 'LKDMean': 0.08644840221554007,\n",
       " 'LKDStd': 0.06688186460471794,\n",
       " 'LKEDMean': 0.21452636258872992,\n",
       " 'LKEDStd': 0.11869616880230745}"
      ]
     },
     "execution_count": 46,
     "metadata": {},
     "output_type": "execute_result"
    }
   ],
   "source": [
    "compute_statistcs(pl_docs)"
   ]
  },
  {
   "cell_type": "code",
   "execution_count": 47,
   "metadata": {},
   "outputs": [
    {
     "name": "stderr",
     "output_type": "stream",
     "text": [
      "\u001b[32m2025-02-18 05:16:48.941\u001b[0m | \u001b[1mINFO    \u001b[0m | \u001b[36m__main__\u001b[0m:\u001b[36m<module>\u001b[0m:\u001b[36m1\u001b[0m - \u001b[1mQueries[D] = 14498\u001b[0m\n"
     ]
    }
   ],
   "source": [
    "logger.info(f'Queries[D] = {pl_docs.explode(\"queries\").shape[0]}')"
   ]
  },
  {
   "cell_type": "code",
   "execution_count": 48,
   "metadata": {},
   "outputs": [],
   "source": [
    "js_docs = pl_docs.drop([\"monitor\"]).to_dicts()"
   ]
  },
  {
   "cell_type": "code",
   "execution_count": 55,
   "metadata": {},
   "outputs": [],
   "source": [
    "def run_fusion_pipeline(js_data: list[dict], source_col: str, target_col: str) -> list[dict]:\n",
    "    \"\"\"\n",
    "    Performs fusion process toward each dict for the field `target_col`\n",
    "\n",
    "    :param source_col: column (field) within the `js_data` documents where keywords or phrases are taken from\n",
    "    :type source_col: str\n",
    "    :param target_col: column (field) within the `js_data` documents, e.g. [content].\n",
    "    :type target_col: str\n",
    "    :return: The same object where fusion has been applied\n",
    "    \"\"\"\n",
    "    total_missing_kwargs: int = 0\n",
    "    total_keywords: int = 0\n",
    "    for i, js_doc in enumerate(js_data):\n",
    "        ls_kwargs = js_doc[source_col]\n",
    "        cur_doc_content = js_doc[target_col]\n",
    "        for j, js_kwarg in enumerate(ls_kwargs):\n",
    "            kwp = js_kwarg['keyword_or_phrase']\n",
    "            exp = js_kwarg['explanation']\n",
    "            total_keywords += 1\n",
    "            if kwp is None or exp is None:\n",
    "                continue\n",
    "            pos = cur_doc_content.find(kwp)\n",
    "            if pos < 0:\n",
    "                # logger.info(f\"Applying the phrase j=[{str(j)}] kwp=[{kwp}] is missing from i=[{str(i)}]\")\n",
    "                total_missing_kwargs += 1\n",
    "    return total_missing_kwargs, total_keywords"
   ]
  },
  {
   "cell_type": "code",
   "execution_count": 56,
   "metadata": {},
   "outputs": [],
   "source": [
    "total_missing_kwargs, total_keywords = run_fusion_pipeline(js_data=js_docs, source_col=\"keywords_or_phrases\", target_col=\"content\")"
   ]
  },
  {
   "cell_type": "code",
   "execution_count": 57,
   "metadata": {},
   "outputs": [
    {
     "name": "stderr",
     "output_type": "stream",
     "text": [
      "\u001b[32m2025-02-18 05:19:49.121\u001b[0m | \u001b[1mINFO    \u001b[0m | \u001b[36m__main__\u001b[0m:\u001b[36m<module>\u001b[0m:\u001b[36m1\u001b[0m - \u001b[1mThere are total L1=[3363] out of L=[28900] keywords that are NOT substring of the respective content\u001b[0m\n"
     ]
    }
   ],
   "source": [
    "logger.info(f\"There are total L1=[{total_missing_kwargs}] out of L=[{total_keywords}] keywords that are NOT substring of the respective content\")"
   ]
  },
  {
   "cell_type": "code",
   "execution_count": null,
   "metadata": {},
   "outputs": [],
   "source": []
  }
 ],
 "metadata": {
  "kernelspec": {
   "display_name": "justatom",
   "language": "python",
   "name": "python3"
  },
  "language_info": {
   "codemirror_mode": {
    "name": "ipython",
    "version": 3
   },
   "file_extension": ".py",
   "mimetype": "text/x-python",
   "name": "python",
   "nbconvert_exporter": "python",
   "pygments_lexer": "ipython3",
   "version": "3.11.9"
  }
 },
 "nbformat": 4,
 "nbformat_minor": 2
}
